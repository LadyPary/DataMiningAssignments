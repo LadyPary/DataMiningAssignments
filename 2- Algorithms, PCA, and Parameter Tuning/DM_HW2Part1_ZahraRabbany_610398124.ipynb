{
  "nbformat": 4,
  "nbformat_minor": 0,
  "metadata": {
    "colab": {
      "provenance": [],
      "collapsed_sections": [
        "5O0lKJwG95Im"
      ],
      "include_colab_link": true
    },
    "kernelspec": {
      "name": "python3",
      "display_name": "Python 3"
    },
    "language_info": {
      "name": "python"
    }
  },
  "cells": [
    {
      "cell_type": "markdown",
      "metadata": {
        "id": "view-in-github",
        "colab_type": "text"
      },
      "source": [
        "<a href=\"https://colab.research.google.com/github/LadyPary/DataMiningAssignments/blob/main/DM_HW2Part1_ZahraRabbany_610398124.ipynb\" target=\"_parent\"><img src=\"https://colab.research.google.com/assets/colab-badge.svg\" alt=\"Open In Colab\"/></a>"
      ]
    },
    {
      "cell_type": "markdown",
      "source": [
        "_______\n",
        "# **<center> Data Mining </center>**\n",
        "### **<center> Assignment No. 2 (Part 1)</center>**\n",
        "\n",
        "#### <center>Zahra Rabbany Khorasgani</center> \n",
        "<center>610398124</center>\n",
        "\n",
        "#### <center>Prof. Hedieh Sajedi</center>\n",
        "#### <center>Department of Computer Science, Tehran University</center>\n",
        "\n",
        "#### <center>April 2022</center>\n",
        "_______\n",
        "\n"
      ],
      "metadata": {
        "id": "NUOeZjY-PVC4"
      }
    },
    {
      "cell_type": "markdown",
      "source": [
        "## **Importing**"
      ],
      "metadata": {
        "id": "5O0lKJwG95Im"
      }
    },
    {
      "cell_type": "code",
      "source": [
        "#Necessary packages\n",
        "\n",
        "# For computations\n",
        "import pandas as pd\n",
        "import numpy as np\n",
        "\n",
        "# For visualisations\n",
        "import matplotlib.pyplot as plt\n",
        "import seaborn as sns\n",
        "\n",
        "\n",
        "from sklearn.tree import DecisionTreeClassifier\n",
        "from sklearn.neighbors import KNeighborsClassifier\n",
        "from sklearn.svm import SVC\n",
        "\n",
        "from sklearn.metrics import confusion_matrix\n",
        "from sklearn.metrics import accuracy_score\n",
        "from sklearn.metrics import classification_report\n",
        "\n",
        "from sklearn.model_selection import GridSearchCV\n",
        "from sklearn.model_selection import RandomizedSearchCV"
      ],
      "metadata": {
        "id": "30CZSzEd95In"
      },
      "execution_count": null,
      "outputs": []
    },
    {
      "cell_type": "markdown",
      "source": [
        "#**Part 1: Maternal Health Risk Data Set**"
      ],
      "metadata": {
        "id": "9joIZs_F4tKo"
      }
    },
    {
      "cell_type": "markdown",
      "source": [
        "**Attribute Information:**\n",
        "\n",
        "*   **Age**: Any ages in years when a women is pregnant.\n",
        "\n",
        "* **SystolicBP**: Upper value of Blood Pressure in mmHg, another significant attribute during pregnancy.\n",
        "* **DiastolicBP**: Lower value of Blood Pressure in mmHg, another significant attribute during pregnancy.\n",
        "* **BS**: Blood glucose levels is in terms of a molar concentration, mmol/L.\n",
        "* **HeartRate**: A normal resting heart rate in beats per minute.\n",
        "* **Risk Level**: Predicted Risk Intensity Level during pregnancy considering the previous attribute."
      ],
      "metadata": {
        "id": "V9xDIYK-4-ay"
      }
    },
    {
      "cell_type": "markdown",
      "source": [
        "### **1.1. Load**"
      ],
      "metadata": {
        "id": "wo9NafE-6E5b"
      }
    },
    {
      "cell_type": "code",
      "source": [
        "# loading data\n",
        "df = pd.read_csv('https://raw.githubusercontent.com/LadyPary/DataMiningAssignments/main/HW2/Maternal%20Health%20Risk%20Data%20Set.csv')"
      ],
      "metadata": {
        "id": "sWNiWUZS95In"
      },
      "execution_count": null,
      "outputs": []
    },
    {
      "cell_type": "code",
      "source": [
        "df.shape"
      ],
      "metadata": {
        "colab": {
          "base_uri": "https://localhost:8080/"
        },
        "id": "VcQMietKJF-m",
        "outputId": "9ada46f7-30fd-4e30-b951-301fef914504"
      },
      "execution_count": null,
      "outputs": [
        {
          "output_type": "execute_result",
          "data": {
            "text/plain": [
              "(1014, 7)"
            ]
          },
          "metadata": {},
          "execution_count": 456
        }
      ]
    },
    {
      "cell_type": "code",
      "source": [
        "# printing the dataframe\n",
        "df"
      ],
      "metadata": {
        "id": "SOoXdipu95Io",
        "colab": {
          "base_uri": "https://localhost:8080/",
          "height": 423
        },
        "outputId": "9589d0d9-295d-4533-93f1-f019b1b80611"
      },
      "execution_count": null,
      "outputs": [
        {
          "output_type": "execute_result",
          "data": {
            "text/plain": [
              "      Age  SystolicBP  DiastolicBP    BS  BodyTemp  HeartRate  RiskLevel\n",
              "0      25         130           80  15.0      98.0         86  high risk\n",
              "1      35         140           90  13.0      98.0         70  high risk\n",
              "2      29          90           70   8.0     100.0         80  high risk\n",
              "3      30         140           85   7.0      98.0         70  high risk\n",
              "4      35         120           60   6.1      98.0         76   low risk\n",
              "...   ...         ...          ...   ...       ...        ...        ...\n",
              "1009   22         120           60  15.0      98.0         80  high risk\n",
              "1010   55         120           90  18.0      98.0         60  high risk\n",
              "1011   35          85           60  19.0      98.0         86  high risk\n",
              "1012   43         120           90  18.0      98.0         70  high risk\n",
              "1013   32         120           65   6.0     101.0         76   mid risk\n",
              "\n",
              "[1014 rows x 7 columns]"
            ],
            "text/html": [
              "\n",
              "  <div id=\"df-eaa35b22-150d-4b89-98e5-fe721705586e\">\n",
              "    <div class=\"colab-df-container\">\n",
              "      <div>\n",
              "<style scoped>\n",
              "    .dataframe tbody tr th:only-of-type {\n",
              "        vertical-align: middle;\n",
              "    }\n",
              "\n",
              "    .dataframe tbody tr th {\n",
              "        vertical-align: top;\n",
              "    }\n",
              "\n",
              "    .dataframe thead th {\n",
              "        text-align: right;\n",
              "    }\n",
              "</style>\n",
              "<table border=\"1\" class=\"dataframe\">\n",
              "  <thead>\n",
              "    <tr style=\"text-align: right;\">\n",
              "      <th></th>\n",
              "      <th>Age</th>\n",
              "      <th>SystolicBP</th>\n",
              "      <th>DiastolicBP</th>\n",
              "      <th>BS</th>\n",
              "      <th>BodyTemp</th>\n",
              "      <th>HeartRate</th>\n",
              "      <th>RiskLevel</th>\n",
              "    </tr>\n",
              "  </thead>\n",
              "  <tbody>\n",
              "    <tr>\n",
              "      <th>0</th>\n",
              "      <td>25</td>\n",
              "      <td>130</td>\n",
              "      <td>80</td>\n",
              "      <td>15.0</td>\n",
              "      <td>98.0</td>\n",
              "      <td>86</td>\n",
              "      <td>high risk</td>\n",
              "    </tr>\n",
              "    <tr>\n",
              "      <th>1</th>\n",
              "      <td>35</td>\n",
              "      <td>140</td>\n",
              "      <td>90</td>\n",
              "      <td>13.0</td>\n",
              "      <td>98.0</td>\n",
              "      <td>70</td>\n",
              "      <td>high risk</td>\n",
              "    </tr>\n",
              "    <tr>\n",
              "      <th>2</th>\n",
              "      <td>29</td>\n",
              "      <td>90</td>\n",
              "      <td>70</td>\n",
              "      <td>8.0</td>\n",
              "      <td>100.0</td>\n",
              "      <td>80</td>\n",
              "      <td>high risk</td>\n",
              "    </tr>\n",
              "    <tr>\n",
              "      <th>3</th>\n",
              "      <td>30</td>\n",
              "      <td>140</td>\n",
              "      <td>85</td>\n",
              "      <td>7.0</td>\n",
              "      <td>98.0</td>\n",
              "      <td>70</td>\n",
              "      <td>high risk</td>\n",
              "    </tr>\n",
              "    <tr>\n",
              "      <th>4</th>\n",
              "      <td>35</td>\n",
              "      <td>120</td>\n",
              "      <td>60</td>\n",
              "      <td>6.1</td>\n",
              "      <td>98.0</td>\n",
              "      <td>76</td>\n",
              "      <td>low risk</td>\n",
              "    </tr>\n",
              "    <tr>\n",
              "      <th>...</th>\n",
              "      <td>...</td>\n",
              "      <td>...</td>\n",
              "      <td>...</td>\n",
              "      <td>...</td>\n",
              "      <td>...</td>\n",
              "      <td>...</td>\n",
              "      <td>...</td>\n",
              "    </tr>\n",
              "    <tr>\n",
              "      <th>1009</th>\n",
              "      <td>22</td>\n",
              "      <td>120</td>\n",
              "      <td>60</td>\n",
              "      <td>15.0</td>\n",
              "      <td>98.0</td>\n",
              "      <td>80</td>\n",
              "      <td>high risk</td>\n",
              "    </tr>\n",
              "    <tr>\n",
              "      <th>1010</th>\n",
              "      <td>55</td>\n",
              "      <td>120</td>\n",
              "      <td>90</td>\n",
              "      <td>18.0</td>\n",
              "      <td>98.0</td>\n",
              "      <td>60</td>\n",
              "      <td>high risk</td>\n",
              "    </tr>\n",
              "    <tr>\n",
              "      <th>1011</th>\n",
              "      <td>35</td>\n",
              "      <td>85</td>\n",
              "      <td>60</td>\n",
              "      <td>19.0</td>\n",
              "      <td>98.0</td>\n",
              "      <td>86</td>\n",
              "      <td>high risk</td>\n",
              "    </tr>\n",
              "    <tr>\n",
              "      <th>1012</th>\n",
              "      <td>43</td>\n",
              "      <td>120</td>\n",
              "      <td>90</td>\n",
              "      <td>18.0</td>\n",
              "      <td>98.0</td>\n",
              "      <td>70</td>\n",
              "      <td>high risk</td>\n",
              "    </tr>\n",
              "    <tr>\n",
              "      <th>1013</th>\n",
              "      <td>32</td>\n",
              "      <td>120</td>\n",
              "      <td>65</td>\n",
              "      <td>6.0</td>\n",
              "      <td>101.0</td>\n",
              "      <td>76</td>\n",
              "      <td>mid risk</td>\n",
              "    </tr>\n",
              "  </tbody>\n",
              "</table>\n",
              "<p>1014 rows × 7 columns</p>\n",
              "</div>\n",
              "      <button class=\"colab-df-convert\" onclick=\"convertToInteractive('df-eaa35b22-150d-4b89-98e5-fe721705586e')\"\n",
              "              title=\"Convert this dataframe to an interactive table.\"\n",
              "              style=\"display:none;\">\n",
              "        \n",
              "  <svg xmlns=\"http://www.w3.org/2000/svg\" height=\"24px\"viewBox=\"0 0 24 24\"\n",
              "       width=\"24px\">\n",
              "    <path d=\"M0 0h24v24H0V0z\" fill=\"none\"/>\n",
              "    <path d=\"M18.56 5.44l.94 2.06.94-2.06 2.06-.94-2.06-.94-.94-2.06-.94 2.06-2.06.94zm-11 1L8.5 8.5l.94-2.06 2.06-.94-2.06-.94L8.5 2.5l-.94 2.06-2.06.94zm10 10l.94 2.06.94-2.06 2.06-.94-2.06-.94-.94-2.06-.94 2.06-2.06.94z\"/><path d=\"M17.41 7.96l-1.37-1.37c-.4-.4-.92-.59-1.43-.59-.52 0-1.04.2-1.43.59L10.3 9.45l-7.72 7.72c-.78.78-.78 2.05 0 2.83L4 21.41c.39.39.9.59 1.41.59.51 0 1.02-.2 1.41-.59l7.78-7.78 2.81-2.81c.8-.78.8-2.07 0-2.86zM5.41 20L4 18.59l7.72-7.72 1.47 1.35L5.41 20z\"/>\n",
              "  </svg>\n",
              "      </button>\n",
              "      \n",
              "  <style>\n",
              "    .colab-df-container {\n",
              "      display:flex;\n",
              "      flex-wrap:wrap;\n",
              "      gap: 12px;\n",
              "    }\n",
              "\n",
              "    .colab-df-convert {\n",
              "      background-color: #E8F0FE;\n",
              "      border: none;\n",
              "      border-radius: 50%;\n",
              "      cursor: pointer;\n",
              "      display: none;\n",
              "      fill: #1967D2;\n",
              "      height: 32px;\n",
              "      padding: 0 0 0 0;\n",
              "      width: 32px;\n",
              "    }\n",
              "\n",
              "    .colab-df-convert:hover {\n",
              "      background-color: #E2EBFA;\n",
              "      box-shadow: 0px 1px 2px rgba(60, 64, 67, 0.3), 0px 1px 3px 1px rgba(60, 64, 67, 0.15);\n",
              "      fill: #174EA6;\n",
              "    }\n",
              "\n",
              "    [theme=dark] .colab-df-convert {\n",
              "      background-color: #3B4455;\n",
              "      fill: #D2E3FC;\n",
              "    }\n",
              "\n",
              "    [theme=dark] .colab-df-convert:hover {\n",
              "      background-color: #434B5C;\n",
              "      box-shadow: 0px 1px 3px 1px rgba(0, 0, 0, 0.15);\n",
              "      filter: drop-shadow(0px 1px 2px rgba(0, 0, 0, 0.3));\n",
              "      fill: #FFFFFF;\n",
              "    }\n",
              "  </style>\n",
              "\n",
              "      <script>\n",
              "        const buttonEl =\n",
              "          document.querySelector('#df-eaa35b22-150d-4b89-98e5-fe721705586e button.colab-df-convert');\n",
              "        buttonEl.style.display =\n",
              "          google.colab.kernel.accessAllowed ? 'block' : 'none';\n",
              "\n",
              "        async function convertToInteractive(key) {\n",
              "          const element = document.querySelector('#df-eaa35b22-150d-4b89-98e5-fe721705586e');\n",
              "          const dataTable =\n",
              "            await google.colab.kernel.invokeFunction('convertToInteractive',\n",
              "                                                     [key], {});\n",
              "          if (!dataTable) return;\n",
              "\n",
              "          const docLinkHtml = 'Like what you see? Visit the ' +\n",
              "            '<a target=\"_blank\" href=https://colab.research.google.com/notebooks/data_table.ipynb>data table notebook</a>'\n",
              "            + ' to learn more about interactive tables.';\n",
              "          element.innerHTML = '';\n",
              "          dataTable['output_type'] = 'display_data';\n",
              "          await google.colab.output.renderOutput(dataTable, element);\n",
              "          const docLink = document.createElement('div');\n",
              "          docLink.innerHTML = docLinkHtml;\n",
              "          element.appendChild(docLink);\n",
              "        }\n",
              "      </script>\n",
              "    </div>\n",
              "  </div>\n",
              "  "
            ]
          },
          "metadata": {},
          "execution_count": 457
        }
      ]
    },
    {
      "cell_type": "code",
      "source": [
        "df.head()"
      ],
      "metadata": {
        "colab": {
          "base_uri": "https://localhost:8080/",
          "height": 206
        },
        "id": "8A0IeTXHIJOz",
        "outputId": "6b0e4507-fcc3-4ce9-ee70-bb8c4ec7a70c"
      },
      "execution_count": null,
      "outputs": [
        {
          "output_type": "execute_result",
          "data": {
            "text/plain": [
              "   Age  SystolicBP  DiastolicBP    BS  BodyTemp  HeartRate  RiskLevel\n",
              "0   25         130           80  15.0      98.0         86  high risk\n",
              "1   35         140           90  13.0      98.0         70  high risk\n",
              "2   29          90           70   8.0     100.0         80  high risk\n",
              "3   30         140           85   7.0      98.0         70  high risk\n",
              "4   35         120           60   6.1      98.0         76   low risk"
            ],
            "text/html": [
              "\n",
              "  <div id=\"df-36b43301-9d98-4b95-89c6-06d6b77830e7\">\n",
              "    <div class=\"colab-df-container\">\n",
              "      <div>\n",
              "<style scoped>\n",
              "    .dataframe tbody tr th:only-of-type {\n",
              "        vertical-align: middle;\n",
              "    }\n",
              "\n",
              "    .dataframe tbody tr th {\n",
              "        vertical-align: top;\n",
              "    }\n",
              "\n",
              "    .dataframe thead th {\n",
              "        text-align: right;\n",
              "    }\n",
              "</style>\n",
              "<table border=\"1\" class=\"dataframe\">\n",
              "  <thead>\n",
              "    <tr style=\"text-align: right;\">\n",
              "      <th></th>\n",
              "      <th>Age</th>\n",
              "      <th>SystolicBP</th>\n",
              "      <th>DiastolicBP</th>\n",
              "      <th>BS</th>\n",
              "      <th>BodyTemp</th>\n",
              "      <th>HeartRate</th>\n",
              "      <th>RiskLevel</th>\n",
              "    </tr>\n",
              "  </thead>\n",
              "  <tbody>\n",
              "    <tr>\n",
              "      <th>0</th>\n",
              "      <td>25</td>\n",
              "      <td>130</td>\n",
              "      <td>80</td>\n",
              "      <td>15.0</td>\n",
              "      <td>98.0</td>\n",
              "      <td>86</td>\n",
              "      <td>high risk</td>\n",
              "    </tr>\n",
              "    <tr>\n",
              "      <th>1</th>\n",
              "      <td>35</td>\n",
              "      <td>140</td>\n",
              "      <td>90</td>\n",
              "      <td>13.0</td>\n",
              "      <td>98.0</td>\n",
              "      <td>70</td>\n",
              "      <td>high risk</td>\n",
              "    </tr>\n",
              "    <tr>\n",
              "      <th>2</th>\n",
              "      <td>29</td>\n",
              "      <td>90</td>\n",
              "      <td>70</td>\n",
              "      <td>8.0</td>\n",
              "      <td>100.0</td>\n",
              "      <td>80</td>\n",
              "      <td>high risk</td>\n",
              "    </tr>\n",
              "    <tr>\n",
              "      <th>3</th>\n",
              "      <td>30</td>\n",
              "      <td>140</td>\n",
              "      <td>85</td>\n",
              "      <td>7.0</td>\n",
              "      <td>98.0</td>\n",
              "      <td>70</td>\n",
              "      <td>high risk</td>\n",
              "    </tr>\n",
              "    <tr>\n",
              "      <th>4</th>\n",
              "      <td>35</td>\n",
              "      <td>120</td>\n",
              "      <td>60</td>\n",
              "      <td>6.1</td>\n",
              "      <td>98.0</td>\n",
              "      <td>76</td>\n",
              "      <td>low risk</td>\n",
              "    </tr>\n",
              "  </tbody>\n",
              "</table>\n",
              "</div>\n",
              "      <button class=\"colab-df-convert\" onclick=\"convertToInteractive('df-36b43301-9d98-4b95-89c6-06d6b77830e7')\"\n",
              "              title=\"Convert this dataframe to an interactive table.\"\n",
              "              style=\"display:none;\">\n",
              "        \n",
              "  <svg xmlns=\"http://www.w3.org/2000/svg\" height=\"24px\"viewBox=\"0 0 24 24\"\n",
              "       width=\"24px\">\n",
              "    <path d=\"M0 0h24v24H0V0z\" fill=\"none\"/>\n",
              "    <path d=\"M18.56 5.44l.94 2.06.94-2.06 2.06-.94-2.06-.94-.94-2.06-.94 2.06-2.06.94zm-11 1L8.5 8.5l.94-2.06 2.06-.94-2.06-.94L8.5 2.5l-.94 2.06-2.06.94zm10 10l.94 2.06.94-2.06 2.06-.94-2.06-.94-.94-2.06-.94 2.06-2.06.94z\"/><path d=\"M17.41 7.96l-1.37-1.37c-.4-.4-.92-.59-1.43-.59-.52 0-1.04.2-1.43.59L10.3 9.45l-7.72 7.72c-.78.78-.78 2.05 0 2.83L4 21.41c.39.39.9.59 1.41.59.51 0 1.02-.2 1.41-.59l7.78-7.78 2.81-2.81c.8-.78.8-2.07 0-2.86zM5.41 20L4 18.59l7.72-7.72 1.47 1.35L5.41 20z\"/>\n",
              "  </svg>\n",
              "      </button>\n",
              "      \n",
              "  <style>\n",
              "    .colab-df-container {\n",
              "      display:flex;\n",
              "      flex-wrap:wrap;\n",
              "      gap: 12px;\n",
              "    }\n",
              "\n",
              "    .colab-df-convert {\n",
              "      background-color: #E8F0FE;\n",
              "      border: none;\n",
              "      border-radius: 50%;\n",
              "      cursor: pointer;\n",
              "      display: none;\n",
              "      fill: #1967D2;\n",
              "      height: 32px;\n",
              "      padding: 0 0 0 0;\n",
              "      width: 32px;\n",
              "    }\n",
              "\n",
              "    .colab-df-convert:hover {\n",
              "      background-color: #E2EBFA;\n",
              "      box-shadow: 0px 1px 2px rgba(60, 64, 67, 0.3), 0px 1px 3px 1px rgba(60, 64, 67, 0.15);\n",
              "      fill: #174EA6;\n",
              "    }\n",
              "\n",
              "    [theme=dark] .colab-df-convert {\n",
              "      background-color: #3B4455;\n",
              "      fill: #D2E3FC;\n",
              "    }\n",
              "\n",
              "    [theme=dark] .colab-df-convert:hover {\n",
              "      background-color: #434B5C;\n",
              "      box-shadow: 0px 1px 3px 1px rgba(0, 0, 0, 0.15);\n",
              "      filter: drop-shadow(0px 1px 2px rgba(0, 0, 0, 0.3));\n",
              "      fill: #FFFFFF;\n",
              "    }\n",
              "  </style>\n",
              "\n",
              "      <script>\n",
              "        const buttonEl =\n",
              "          document.querySelector('#df-36b43301-9d98-4b95-89c6-06d6b77830e7 button.colab-df-convert');\n",
              "        buttonEl.style.display =\n",
              "          google.colab.kernel.accessAllowed ? 'block' : 'none';\n",
              "\n",
              "        async function convertToInteractive(key) {\n",
              "          const element = document.querySelector('#df-36b43301-9d98-4b95-89c6-06d6b77830e7');\n",
              "          const dataTable =\n",
              "            await google.colab.kernel.invokeFunction('convertToInteractive',\n",
              "                                                     [key], {});\n",
              "          if (!dataTable) return;\n",
              "\n",
              "          const docLinkHtml = 'Like what you see? Visit the ' +\n",
              "            '<a target=\"_blank\" href=https://colab.research.google.com/notebooks/data_table.ipynb>data table notebook</a>'\n",
              "            + ' to learn more about interactive tables.';\n",
              "          element.innerHTML = '';\n",
              "          dataTable['output_type'] = 'display_data';\n",
              "          await google.colab.output.renderOutput(dataTable, element);\n",
              "          const docLink = document.createElement('div');\n",
              "          docLink.innerHTML = docLinkHtml;\n",
              "          element.appendChild(docLink);\n",
              "        }\n",
              "      </script>\n",
              "    </div>\n",
              "  </div>\n",
              "  "
            ]
          },
          "metadata": {},
          "execution_count": 458
        }
      ]
    },
    {
      "cell_type": "code",
      "source": [
        "# description of data\n",
        "df.describe()"
      ],
      "metadata": {
        "id": "AhtVM29B95Io",
        "colab": {
          "base_uri": "https://localhost:8080/",
          "height": 300
        },
        "outputId": "ff80d80a-94e5-466c-816a-fda638ba6825"
      },
      "execution_count": null,
      "outputs": [
        {
          "output_type": "execute_result",
          "data": {
            "text/plain": [
              "               Age   SystolicBP  DiastolicBP           BS     BodyTemp  \\\n",
              "count  1014.000000  1014.000000  1014.000000  1014.000000  1014.000000   \n",
              "mean     29.871795   113.198225    76.460552     8.725986    98.665089   \n",
              "std      13.474386    18.403913    13.885796     3.293532     1.371384   \n",
              "min      10.000000    70.000000    49.000000     6.000000    98.000000   \n",
              "25%      19.000000   100.000000    65.000000     6.900000    98.000000   \n",
              "50%      26.000000   120.000000    80.000000     7.500000    98.000000   \n",
              "75%      39.000000   120.000000    90.000000     8.000000    98.000000   \n",
              "max      70.000000   160.000000   100.000000    19.000000   103.000000   \n",
              "\n",
              "         HeartRate  \n",
              "count  1014.000000  \n",
              "mean     74.301775  \n",
              "std       8.088702  \n",
              "min       7.000000  \n",
              "25%      70.000000  \n",
              "50%      76.000000  \n",
              "75%      80.000000  \n",
              "max      90.000000  "
            ],
            "text/html": [
              "\n",
              "  <div id=\"df-ea6bee08-0588-4fe5-b742-d6217924c616\">\n",
              "    <div class=\"colab-df-container\">\n",
              "      <div>\n",
              "<style scoped>\n",
              "    .dataframe tbody tr th:only-of-type {\n",
              "        vertical-align: middle;\n",
              "    }\n",
              "\n",
              "    .dataframe tbody tr th {\n",
              "        vertical-align: top;\n",
              "    }\n",
              "\n",
              "    .dataframe thead th {\n",
              "        text-align: right;\n",
              "    }\n",
              "</style>\n",
              "<table border=\"1\" class=\"dataframe\">\n",
              "  <thead>\n",
              "    <tr style=\"text-align: right;\">\n",
              "      <th></th>\n",
              "      <th>Age</th>\n",
              "      <th>SystolicBP</th>\n",
              "      <th>DiastolicBP</th>\n",
              "      <th>BS</th>\n",
              "      <th>BodyTemp</th>\n",
              "      <th>HeartRate</th>\n",
              "    </tr>\n",
              "  </thead>\n",
              "  <tbody>\n",
              "    <tr>\n",
              "      <th>count</th>\n",
              "      <td>1014.000000</td>\n",
              "      <td>1014.000000</td>\n",
              "      <td>1014.000000</td>\n",
              "      <td>1014.000000</td>\n",
              "      <td>1014.000000</td>\n",
              "      <td>1014.000000</td>\n",
              "    </tr>\n",
              "    <tr>\n",
              "      <th>mean</th>\n",
              "      <td>29.871795</td>\n",
              "      <td>113.198225</td>\n",
              "      <td>76.460552</td>\n",
              "      <td>8.725986</td>\n",
              "      <td>98.665089</td>\n",
              "      <td>74.301775</td>\n",
              "    </tr>\n",
              "    <tr>\n",
              "      <th>std</th>\n",
              "      <td>13.474386</td>\n",
              "      <td>18.403913</td>\n",
              "      <td>13.885796</td>\n",
              "      <td>3.293532</td>\n",
              "      <td>1.371384</td>\n",
              "      <td>8.088702</td>\n",
              "    </tr>\n",
              "    <tr>\n",
              "      <th>min</th>\n",
              "      <td>10.000000</td>\n",
              "      <td>70.000000</td>\n",
              "      <td>49.000000</td>\n",
              "      <td>6.000000</td>\n",
              "      <td>98.000000</td>\n",
              "      <td>7.000000</td>\n",
              "    </tr>\n",
              "    <tr>\n",
              "      <th>25%</th>\n",
              "      <td>19.000000</td>\n",
              "      <td>100.000000</td>\n",
              "      <td>65.000000</td>\n",
              "      <td>6.900000</td>\n",
              "      <td>98.000000</td>\n",
              "      <td>70.000000</td>\n",
              "    </tr>\n",
              "    <tr>\n",
              "      <th>50%</th>\n",
              "      <td>26.000000</td>\n",
              "      <td>120.000000</td>\n",
              "      <td>80.000000</td>\n",
              "      <td>7.500000</td>\n",
              "      <td>98.000000</td>\n",
              "      <td>76.000000</td>\n",
              "    </tr>\n",
              "    <tr>\n",
              "      <th>75%</th>\n",
              "      <td>39.000000</td>\n",
              "      <td>120.000000</td>\n",
              "      <td>90.000000</td>\n",
              "      <td>8.000000</td>\n",
              "      <td>98.000000</td>\n",
              "      <td>80.000000</td>\n",
              "    </tr>\n",
              "    <tr>\n",
              "      <th>max</th>\n",
              "      <td>70.000000</td>\n",
              "      <td>160.000000</td>\n",
              "      <td>100.000000</td>\n",
              "      <td>19.000000</td>\n",
              "      <td>103.000000</td>\n",
              "      <td>90.000000</td>\n",
              "    </tr>\n",
              "  </tbody>\n",
              "</table>\n",
              "</div>\n",
              "      <button class=\"colab-df-convert\" onclick=\"convertToInteractive('df-ea6bee08-0588-4fe5-b742-d6217924c616')\"\n",
              "              title=\"Convert this dataframe to an interactive table.\"\n",
              "              style=\"display:none;\">\n",
              "        \n",
              "  <svg xmlns=\"http://www.w3.org/2000/svg\" height=\"24px\"viewBox=\"0 0 24 24\"\n",
              "       width=\"24px\">\n",
              "    <path d=\"M0 0h24v24H0V0z\" fill=\"none\"/>\n",
              "    <path d=\"M18.56 5.44l.94 2.06.94-2.06 2.06-.94-2.06-.94-.94-2.06-.94 2.06-2.06.94zm-11 1L8.5 8.5l.94-2.06 2.06-.94-2.06-.94L8.5 2.5l-.94 2.06-2.06.94zm10 10l.94 2.06.94-2.06 2.06-.94-2.06-.94-.94-2.06-.94 2.06-2.06.94z\"/><path d=\"M17.41 7.96l-1.37-1.37c-.4-.4-.92-.59-1.43-.59-.52 0-1.04.2-1.43.59L10.3 9.45l-7.72 7.72c-.78.78-.78 2.05 0 2.83L4 21.41c.39.39.9.59 1.41.59.51 0 1.02-.2 1.41-.59l7.78-7.78 2.81-2.81c.8-.78.8-2.07 0-2.86zM5.41 20L4 18.59l7.72-7.72 1.47 1.35L5.41 20z\"/>\n",
              "  </svg>\n",
              "      </button>\n",
              "      \n",
              "  <style>\n",
              "    .colab-df-container {\n",
              "      display:flex;\n",
              "      flex-wrap:wrap;\n",
              "      gap: 12px;\n",
              "    }\n",
              "\n",
              "    .colab-df-convert {\n",
              "      background-color: #E8F0FE;\n",
              "      border: none;\n",
              "      border-radius: 50%;\n",
              "      cursor: pointer;\n",
              "      display: none;\n",
              "      fill: #1967D2;\n",
              "      height: 32px;\n",
              "      padding: 0 0 0 0;\n",
              "      width: 32px;\n",
              "    }\n",
              "\n",
              "    .colab-df-convert:hover {\n",
              "      background-color: #E2EBFA;\n",
              "      box-shadow: 0px 1px 2px rgba(60, 64, 67, 0.3), 0px 1px 3px 1px rgba(60, 64, 67, 0.15);\n",
              "      fill: #174EA6;\n",
              "    }\n",
              "\n",
              "    [theme=dark] .colab-df-convert {\n",
              "      background-color: #3B4455;\n",
              "      fill: #D2E3FC;\n",
              "    }\n",
              "\n",
              "    [theme=dark] .colab-df-convert:hover {\n",
              "      background-color: #434B5C;\n",
              "      box-shadow: 0px 1px 3px 1px rgba(0, 0, 0, 0.15);\n",
              "      filter: drop-shadow(0px 1px 2px rgba(0, 0, 0, 0.3));\n",
              "      fill: #FFFFFF;\n",
              "    }\n",
              "  </style>\n",
              "\n",
              "      <script>\n",
              "        const buttonEl =\n",
              "          document.querySelector('#df-ea6bee08-0588-4fe5-b742-d6217924c616 button.colab-df-convert');\n",
              "        buttonEl.style.display =\n",
              "          google.colab.kernel.accessAllowed ? 'block' : 'none';\n",
              "\n",
              "        async function convertToInteractive(key) {\n",
              "          const element = document.querySelector('#df-ea6bee08-0588-4fe5-b742-d6217924c616');\n",
              "          const dataTable =\n",
              "            await google.colab.kernel.invokeFunction('convertToInteractive',\n",
              "                                                     [key], {});\n",
              "          if (!dataTable) return;\n",
              "\n",
              "          const docLinkHtml = 'Like what you see? Visit the ' +\n",
              "            '<a target=\"_blank\" href=https://colab.research.google.com/notebooks/data_table.ipynb>data table notebook</a>'\n",
              "            + ' to learn more about interactive tables.';\n",
              "          element.innerHTML = '';\n",
              "          dataTable['output_type'] = 'display_data';\n",
              "          await google.colab.output.renderOutput(dataTable, element);\n",
              "          const docLink = document.createElement('div');\n",
              "          docLink.innerHTML = docLinkHtml;\n",
              "          element.appendChild(docLink);\n",
              "        }\n",
              "      </script>\n",
              "    </div>\n",
              "  </div>\n",
              "  "
            ]
          },
          "metadata": {},
          "execution_count": 459
        }
      ]
    },
    {
      "cell_type": "code",
      "source": [
        "df.tail()"
      ],
      "metadata": {
        "colab": {
          "base_uri": "https://localhost:8080/",
          "height": 206
        },
        "id": "BCFmPd1-Iong",
        "outputId": "98bf5cea-bb10-45ea-9bce-b0c57edb30d1"
      },
      "execution_count": null,
      "outputs": [
        {
          "output_type": "execute_result",
          "data": {
            "text/plain": [
              "      Age  SystolicBP  DiastolicBP    BS  BodyTemp  HeartRate  RiskLevel\n",
              "1009   22         120           60  15.0      98.0         80  high risk\n",
              "1010   55         120           90  18.0      98.0         60  high risk\n",
              "1011   35          85           60  19.0      98.0         86  high risk\n",
              "1012   43         120           90  18.0      98.0         70  high risk\n",
              "1013   32         120           65   6.0     101.0         76   mid risk"
            ],
            "text/html": [
              "\n",
              "  <div id=\"df-aff786d0-2581-46e7-9204-3aa9f3e187d6\">\n",
              "    <div class=\"colab-df-container\">\n",
              "      <div>\n",
              "<style scoped>\n",
              "    .dataframe tbody tr th:only-of-type {\n",
              "        vertical-align: middle;\n",
              "    }\n",
              "\n",
              "    .dataframe tbody tr th {\n",
              "        vertical-align: top;\n",
              "    }\n",
              "\n",
              "    .dataframe thead th {\n",
              "        text-align: right;\n",
              "    }\n",
              "</style>\n",
              "<table border=\"1\" class=\"dataframe\">\n",
              "  <thead>\n",
              "    <tr style=\"text-align: right;\">\n",
              "      <th></th>\n",
              "      <th>Age</th>\n",
              "      <th>SystolicBP</th>\n",
              "      <th>DiastolicBP</th>\n",
              "      <th>BS</th>\n",
              "      <th>BodyTemp</th>\n",
              "      <th>HeartRate</th>\n",
              "      <th>RiskLevel</th>\n",
              "    </tr>\n",
              "  </thead>\n",
              "  <tbody>\n",
              "    <tr>\n",
              "      <th>1009</th>\n",
              "      <td>22</td>\n",
              "      <td>120</td>\n",
              "      <td>60</td>\n",
              "      <td>15.0</td>\n",
              "      <td>98.0</td>\n",
              "      <td>80</td>\n",
              "      <td>high risk</td>\n",
              "    </tr>\n",
              "    <tr>\n",
              "      <th>1010</th>\n",
              "      <td>55</td>\n",
              "      <td>120</td>\n",
              "      <td>90</td>\n",
              "      <td>18.0</td>\n",
              "      <td>98.0</td>\n",
              "      <td>60</td>\n",
              "      <td>high risk</td>\n",
              "    </tr>\n",
              "    <tr>\n",
              "      <th>1011</th>\n",
              "      <td>35</td>\n",
              "      <td>85</td>\n",
              "      <td>60</td>\n",
              "      <td>19.0</td>\n",
              "      <td>98.0</td>\n",
              "      <td>86</td>\n",
              "      <td>high risk</td>\n",
              "    </tr>\n",
              "    <tr>\n",
              "      <th>1012</th>\n",
              "      <td>43</td>\n",
              "      <td>120</td>\n",
              "      <td>90</td>\n",
              "      <td>18.0</td>\n",
              "      <td>98.0</td>\n",
              "      <td>70</td>\n",
              "      <td>high risk</td>\n",
              "    </tr>\n",
              "    <tr>\n",
              "      <th>1013</th>\n",
              "      <td>32</td>\n",
              "      <td>120</td>\n",
              "      <td>65</td>\n",
              "      <td>6.0</td>\n",
              "      <td>101.0</td>\n",
              "      <td>76</td>\n",
              "      <td>mid risk</td>\n",
              "    </tr>\n",
              "  </tbody>\n",
              "</table>\n",
              "</div>\n",
              "      <button class=\"colab-df-convert\" onclick=\"convertToInteractive('df-aff786d0-2581-46e7-9204-3aa9f3e187d6')\"\n",
              "              title=\"Convert this dataframe to an interactive table.\"\n",
              "              style=\"display:none;\">\n",
              "        \n",
              "  <svg xmlns=\"http://www.w3.org/2000/svg\" height=\"24px\"viewBox=\"0 0 24 24\"\n",
              "       width=\"24px\">\n",
              "    <path d=\"M0 0h24v24H0V0z\" fill=\"none\"/>\n",
              "    <path d=\"M18.56 5.44l.94 2.06.94-2.06 2.06-.94-2.06-.94-.94-2.06-.94 2.06-2.06.94zm-11 1L8.5 8.5l.94-2.06 2.06-.94-2.06-.94L8.5 2.5l-.94 2.06-2.06.94zm10 10l.94 2.06.94-2.06 2.06-.94-2.06-.94-.94-2.06-.94 2.06-2.06.94z\"/><path d=\"M17.41 7.96l-1.37-1.37c-.4-.4-.92-.59-1.43-.59-.52 0-1.04.2-1.43.59L10.3 9.45l-7.72 7.72c-.78.78-.78 2.05 0 2.83L4 21.41c.39.39.9.59 1.41.59.51 0 1.02-.2 1.41-.59l7.78-7.78 2.81-2.81c.8-.78.8-2.07 0-2.86zM5.41 20L4 18.59l7.72-7.72 1.47 1.35L5.41 20z\"/>\n",
              "  </svg>\n",
              "      </button>\n",
              "      \n",
              "  <style>\n",
              "    .colab-df-container {\n",
              "      display:flex;\n",
              "      flex-wrap:wrap;\n",
              "      gap: 12px;\n",
              "    }\n",
              "\n",
              "    .colab-df-convert {\n",
              "      background-color: #E8F0FE;\n",
              "      border: none;\n",
              "      border-radius: 50%;\n",
              "      cursor: pointer;\n",
              "      display: none;\n",
              "      fill: #1967D2;\n",
              "      height: 32px;\n",
              "      padding: 0 0 0 0;\n",
              "      width: 32px;\n",
              "    }\n",
              "\n",
              "    .colab-df-convert:hover {\n",
              "      background-color: #E2EBFA;\n",
              "      box-shadow: 0px 1px 2px rgba(60, 64, 67, 0.3), 0px 1px 3px 1px rgba(60, 64, 67, 0.15);\n",
              "      fill: #174EA6;\n",
              "    }\n",
              "\n",
              "    [theme=dark] .colab-df-convert {\n",
              "      background-color: #3B4455;\n",
              "      fill: #D2E3FC;\n",
              "    }\n",
              "\n",
              "    [theme=dark] .colab-df-convert:hover {\n",
              "      background-color: #434B5C;\n",
              "      box-shadow: 0px 1px 3px 1px rgba(0, 0, 0, 0.15);\n",
              "      filter: drop-shadow(0px 1px 2px rgba(0, 0, 0, 0.3));\n",
              "      fill: #FFFFFF;\n",
              "    }\n",
              "  </style>\n",
              "\n",
              "      <script>\n",
              "        const buttonEl =\n",
              "          document.querySelector('#df-aff786d0-2581-46e7-9204-3aa9f3e187d6 button.colab-df-convert');\n",
              "        buttonEl.style.display =\n",
              "          google.colab.kernel.accessAllowed ? 'block' : 'none';\n",
              "\n",
              "        async function convertToInteractive(key) {\n",
              "          const element = document.querySelector('#df-aff786d0-2581-46e7-9204-3aa9f3e187d6');\n",
              "          const dataTable =\n",
              "            await google.colab.kernel.invokeFunction('convertToInteractive',\n",
              "                                                     [key], {});\n",
              "          if (!dataTable) return;\n",
              "\n",
              "          const docLinkHtml = 'Like what you see? Visit the ' +\n",
              "            '<a target=\"_blank\" href=https://colab.research.google.com/notebooks/data_table.ipynb>data table notebook</a>'\n",
              "            + ' to learn more about interactive tables.';\n",
              "          element.innerHTML = '';\n",
              "          dataTable['output_type'] = 'display_data';\n",
              "          await google.colab.output.renderOutput(dataTable, element);\n",
              "          const docLink = document.createElement('div');\n",
              "          docLink.innerHTML = docLinkHtml;\n",
              "          element.appendChild(docLink);\n",
              "        }\n",
              "      </script>\n",
              "    </div>\n",
              "  </div>\n",
              "  "
            ]
          },
          "metadata": {},
          "execution_count": 460
        }
      ]
    },
    {
      "cell_type": "code",
      "source": [
        "df.info()"
      ],
      "metadata": {
        "colab": {
          "base_uri": "https://localhost:8080/"
        },
        "id": "4GStqwl2I6rN",
        "outputId": "80339c9b-87c6-41ca-a52d-c8513d13ddf6"
      },
      "execution_count": null,
      "outputs": [
        {
          "output_type": "stream",
          "name": "stdout",
          "text": [
            "<class 'pandas.core.frame.DataFrame'>\n",
            "RangeIndex: 1014 entries, 0 to 1013\n",
            "Data columns (total 7 columns):\n",
            " #   Column       Non-Null Count  Dtype  \n",
            "---  ------       --------------  -----  \n",
            " 0   Age          1014 non-null   int64  \n",
            " 1   SystolicBP   1014 non-null   int64  \n",
            " 2   DiastolicBP  1014 non-null   int64  \n",
            " 3   BS           1014 non-null   float64\n",
            " 4   BodyTemp     1014 non-null   float64\n",
            " 5   HeartRate    1014 non-null   int64  \n",
            " 6   RiskLevel    1014 non-null   object \n",
            "dtypes: float64(2), int64(4), object(1)\n",
            "memory usage: 55.6+ KB\n"
          ]
        }
      ]
    },
    {
      "cell_type": "code",
      "source": [
        "df.dtypes"
      ],
      "metadata": {
        "colab": {
          "base_uri": "https://localhost:8080/"
        },
        "id": "OPNnPjpCIwwL",
        "outputId": "17eb2989-c99d-4ff1-b14d-6bb414e3a7c5"
      },
      "execution_count": null,
      "outputs": [
        {
          "output_type": "execute_result",
          "data": {
            "text/plain": [
              "Age              int64\n",
              "SystolicBP       int64\n",
              "DiastolicBP      int64\n",
              "BS             float64\n",
              "BodyTemp       float64\n",
              "HeartRate        int64\n",
              "RiskLevel       object\n",
              "dtype: object"
            ]
          },
          "metadata": {},
          "execution_count": 462
        }
      ]
    },
    {
      "cell_type": "markdown",
      "source": [
        "### **1.2. Encoding on RiskLevel**\n",
        "\n"
      ],
      "metadata": {
        "id": "CseGCfwL6bcq"
      }
    },
    {
      "cell_type": "code",
      "source": [
        "df.loc[df['RiskLevel'] == 'low risk', 'RiskLevel'] = 0\n",
        "df.loc[df['RiskLevel'] == 'mid risk', 'RiskLevel'] = 1\n",
        "df.loc[df['RiskLevel'] == 'high risk', 'RiskLevel'] = 2\n",
        "\n",
        "df.dtypes"
      ],
      "metadata": {
        "colab": {
          "base_uri": "https://localhost:8080/"
        },
        "id": "PKCarcKAKrtv",
        "outputId": "eca5cc6a-e76f-47bd-94aa-9ed929e49c23"
      },
      "execution_count": null,
      "outputs": [
        {
          "output_type": "execute_result",
          "data": {
            "text/plain": [
              "Age              int64\n",
              "SystolicBP       int64\n",
              "DiastolicBP      int64\n",
              "BS             float64\n",
              "BodyTemp       float64\n",
              "HeartRate        int64\n",
              "RiskLevel       object\n",
              "dtype: object"
            ]
          },
          "metadata": {},
          "execution_count": 463
        }
      ]
    },
    {
      "cell_type": "code",
      "source": [
        "df"
      ],
      "metadata": {
        "colab": {
          "base_uri": "https://localhost:8080/",
          "height": 423
        },
        "id": "YZU8jqi03uAL",
        "outputId": "1f65c30c-0f9f-4eb0-8cd5-27d342f635c2"
      },
      "execution_count": null,
      "outputs": [
        {
          "output_type": "execute_result",
          "data": {
            "text/plain": [
              "      Age  SystolicBP  DiastolicBP    BS  BodyTemp  HeartRate RiskLevel\n",
              "0      25         130           80  15.0      98.0         86         2\n",
              "1      35         140           90  13.0      98.0         70         2\n",
              "2      29          90           70   8.0     100.0         80         2\n",
              "3      30         140           85   7.0      98.0         70         2\n",
              "4      35         120           60   6.1      98.0         76         0\n",
              "...   ...         ...          ...   ...       ...        ...       ...\n",
              "1009   22         120           60  15.0      98.0         80         2\n",
              "1010   55         120           90  18.0      98.0         60         2\n",
              "1011   35          85           60  19.0      98.0         86         2\n",
              "1012   43         120           90  18.0      98.0         70         2\n",
              "1013   32         120           65   6.0     101.0         76         1\n",
              "\n",
              "[1014 rows x 7 columns]"
            ],
            "text/html": [
              "\n",
              "  <div id=\"df-7b5b6a84-9732-4558-bbbd-1b073b43f7d2\">\n",
              "    <div class=\"colab-df-container\">\n",
              "      <div>\n",
              "<style scoped>\n",
              "    .dataframe tbody tr th:only-of-type {\n",
              "        vertical-align: middle;\n",
              "    }\n",
              "\n",
              "    .dataframe tbody tr th {\n",
              "        vertical-align: top;\n",
              "    }\n",
              "\n",
              "    .dataframe thead th {\n",
              "        text-align: right;\n",
              "    }\n",
              "</style>\n",
              "<table border=\"1\" class=\"dataframe\">\n",
              "  <thead>\n",
              "    <tr style=\"text-align: right;\">\n",
              "      <th></th>\n",
              "      <th>Age</th>\n",
              "      <th>SystolicBP</th>\n",
              "      <th>DiastolicBP</th>\n",
              "      <th>BS</th>\n",
              "      <th>BodyTemp</th>\n",
              "      <th>HeartRate</th>\n",
              "      <th>RiskLevel</th>\n",
              "    </tr>\n",
              "  </thead>\n",
              "  <tbody>\n",
              "    <tr>\n",
              "      <th>0</th>\n",
              "      <td>25</td>\n",
              "      <td>130</td>\n",
              "      <td>80</td>\n",
              "      <td>15.0</td>\n",
              "      <td>98.0</td>\n",
              "      <td>86</td>\n",
              "      <td>2</td>\n",
              "    </tr>\n",
              "    <tr>\n",
              "      <th>1</th>\n",
              "      <td>35</td>\n",
              "      <td>140</td>\n",
              "      <td>90</td>\n",
              "      <td>13.0</td>\n",
              "      <td>98.0</td>\n",
              "      <td>70</td>\n",
              "      <td>2</td>\n",
              "    </tr>\n",
              "    <tr>\n",
              "      <th>2</th>\n",
              "      <td>29</td>\n",
              "      <td>90</td>\n",
              "      <td>70</td>\n",
              "      <td>8.0</td>\n",
              "      <td>100.0</td>\n",
              "      <td>80</td>\n",
              "      <td>2</td>\n",
              "    </tr>\n",
              "    <tr>\n",
              "      <th>3</th>\n",
              "      <td>30</td>\n",
              "      <td>140</td>\n",
              "      <td>85</td>\n",
              "      <td>7.0</td>\n",
              "      <td>98.0</td>\n",
              "      <td>70</td>\n",
              "      <td>2</td>\n",
              "    </tr>\n",
              "    <tr>\n",
              "      <th>4</th>\n",
              "      <td>35</td>\n",
              "      <td>120</td>\n",
              "      <td>60</td>\n",
              "      <td>6.1</td>\n",
              "      <td>98.0</td>\n",
              "      <td>76</td>\n",
              "      <td>0</td>\n",
              "    </tr>\n",
              "    <tr>\n",
              "      <th>...</th>\n",
              "      <td>...</td>\n",
              "      <td>...</td>\n",
              "      <td>...</td>\n",
              "      <td>...</td>\n",
              "      <td>...</td>\n",
              "      <td>...</td>\n",
              "      <td>...</td>\n",
              "    </tr>\n",
              "    <tr>\n",
              "      <th>1009</th>\n",
              "      <td>22</td>\n",
              "      <td>120</td>\n",
              "      <td>60</td>\n",
              "      <td>15.0</td>\n",
              "      <td>98.0</td>\n",
              "      <td>80</td>\n",
              "      <td>2</td>\n",
              "    </tr>\n",
              "    <tr>\n",
              "      <th>1010</th>\n",
              "      <td>55</td>\n",
              "      <td>120</td>\n",
              "      <td>90</td>\n",
              "      <td>18.0</td>\n",
              "      <td>98.0</td>\n",
              "      <td>60</td>\n",
              "      <td>2</td>\n",
              "    </tr>\n",
              "    <tr>\n",
              "      <th>1011</th>\n",
              "      <td>35</td>\n",
              "      <td>85</td>\n",
              "      <td>60</td>\n",
              "      <td>19.0</td>\n",
              "      <td>98.0</td>\n",
              "      <td>86</td>\n",
              "      <td>2</td>\n",
              "    </tr>\n",
              "    <tr>\n",
              "      <th>1012</th>\n",
              "      <td>43</td>\n",
              "      <td>120</td>\n",
              "      <td>90</td>\n",
              "      <td>18.0</td>\n",
              "      <td>98.0</td>\n",
              "      <td>70</td>\n",
              "      <td>2</td>\n",
              "    </tr>\n",
              "    <tr>\n",
              "      <th>1013</th>\n",
              "      <td>32</td>\n",
              "      <td>120</td>\n",
              "      <td>65</td>\n",
              "      <td>6.0</td>\n",
              "      <td>101.0</td>\n",
              "      <td>76</td>\n",
              "      <td>1</td>\n",
              "    </tr>\n",
              "  </tbody>\n",
              "</table>\n",
              "<p>1014 rows × 7 columns</p>\n",
              "</div>\n",
              "      <button class=\"colab-df-convert\" onclick=\"convertToInteractive('df-7b5b6a84-9732-4558-bbbd-1b073b43f7d2')\"\n",
              "              title=\"Convert this dataframe to an interactive table.\"\n",
              "              style=\"display:none;\">\n",
              "        \n",
              "  <svg xmlns=\"http://www.w3.org/2000/svg\" height=\"24px\"viewBox=\"0 0 24 24\"\n",
              "       width=\"24px\">\n",
              "    <path d=\"M0 0h24v24H0V0z\" fill=\"none\"/>\n",
              "    <path d=\"M18.56 5.44l.94 2.06.94-2.06 2.06-.94-2.06-.94-.94-2.06-.94 2.06-2.06.94zm-11 1L8.5 8.5l.94-2.06 2.06-.94-2.06-.94L8.5 2.5l-.94 2.06-2.06.94zm10 10l.94 2.06.94-2.06 2.06-.94-2.06-.94-.94-2.06-.94 2.06-2.06.94z\"/><path d=\"M17.41 7.96l-1.37-1.37c-.4-.4-.92-.59-1.43-.59-.52 0-1.04.2-1.43.59L10.3 9.45l-7.72 7.72c-.78.78-.78 2.05 0 2.83L4 21.41c.39.39.9.59 1.41.59.51 0 1.02-.2 1.41-.59l7.78-7.78 2.81-2.81c.8-.78.8-2.07 0-2.86zM5.41 20L4 18.59l7.72-7.72 1.47 1.35L5.41 20z\"/>\n",
              "  </svg>\n",
              "      </button>\n",
              "      \n",
              "  <style>\n",
              "    .colab-df-container {\n",
              "      display:flex;\n",
              "      flex-wrap:wrap;\n",
              "      gap: 12px;\n",
              "    }\n",
              "\n",
              "    .colab-df-convert {\n",
              "      background-color: #E8F0FE;\n",
              "      border: none;\n",
              "      border-radius: 50%;\n",
              "      cursor: pointer;\n",
              "      display: none;\n",
              "      fill: #1967D2;\n",
              "      height: 32px;\n",
              "      padding: 0 0 0 0;\n",
              "      width: 32px;\n",
              "    }\n",
              "\n",
              "    .colab-df-convert:hover {\n",
              "      background-color: #E2EBFA;\n",
              "      box-shadow: 0px 1px 2px rgba(60, 64, 67, 0.3), 0px 1px 3px 1px rgba(60, 64, 67, 0.15);\n",
              "      fill: #174EA6;\n",
              "    }\n",
              "\n",
              "    [theme=dark] .colab-df-convert {\n",
              "      background-color: #3B4455;\n",
              "      fill: #D2E3FC;\n",
              "    }\n",
              "\n",
              "    [theme=dark] .colab-df-convert:hover {\n",
              "      background-color: #434B5C;\n",
              "      box-shadow: 0px 1px 3px 1px rgba(0, 0, 0, 0.15);\n",
              "      filter: drop-shadow(0px 1px 2px rgba(0, 0, 0, 0.3));\n",
              "      fill: #FFFFFF;\n",
              "    }\n",
              "  </style>\n",
              "\n",
              "      <script>\n",
              "        const buttonEl =\n",
              "          document.querySelector('#df-7b5b6a84-9732-4558-bbbd-1b073b43f7d2 button.colab-df-convert');\n",
              "        buttonEl.style.display =\n",
              "          google.colab.kernel.accessAllowed ? 'block' : 'none';\n",
              "\n",
              "        async function convertToInteractive(key) {\n",
              "          const element = document.querySelector('#df-7b5b6a84-9732-4558-bbbd-1b073b43f7d2');\n",
              "          const dataTable =\n",
              "            await google.colab.kernel.invokeFunction('convertToInteractive',\n",
              "                                                     [key], {});\n",
              "          if (!dataTable) return;\n",
              "\n",
              "          const docLinkHtml = 'Like what you see? Visit the ' +\n",
              "            '<a target=\"_blank\" href=https://colab.research.google.com/notebooks/data_table.ipynb>data table notebook</a>'\n",
              "            + ' to learn more about interactive tables.';\n",
              "          element.innerHTML = '';\n",
              "          dataTable['output_type'] = 'display_data';\n",
              "          await google.colab.output.renderOutput(dataTable, element);\n",
              "          const docLink = document.createElement('div');\n",
              "          docLink.innerHTML = docLinkHtml;\n",
              "          element.appendChild(docLink);\n",
              "        }\n",
              "      </script>\n",
              "    </div>\n",
              "  </div>\n",
              "  "
            ]
          },
          "metadata": {},
          "execution_count": 464
        }
      ]
    },
    {
      "cell_type": "code",
      "source": [
        "df['RiskLevel'] = df['RiskLevel'].astype(float)\n",
        "df.dtypes"
      ],
      "metadata": {
        "colab": {
          "base_uri": "https://localhost:8080/"
        },
        "id": "pocJSTU3N58n",
        "outputId": "c40e81eb-2ee0-442d-a8d4-0dacc3279c33"
      },
      "execution_count": null,
      "outputs": [
        {
          "output_type": "execute_result",
          "data": {
            "text/plain": [
              "Age              int64\n",
              "SystolicBP       int64\n",
              "DiastolicBP      int64\n",
              "BS             float64\n",
              "BodyTemp       float64\n",
              "HeartRate        int64\n",
              "RiskLevel      float64\n",
              "dtype: object"
            ]
          },
          "metadata": {},
          "execution_count": 465
        }
      ]
    },
    {
      "cell_type": "markdown",
      "source": [
        "### **1.3. Data preprocessing**"
      ],
      "metadata": {
        "id": "CxoSeJcH64n1"
      }
    },
    {
      "cell_type": "markdown",
      "source": [
        "#### **1.3.1. Missing Values**"
      ],
      "metadata": {
        "id": "MhRfg0n8ID4A"
      }
    },
    {
      "cell_type": "code",
      "source": [
        "#Missing Valuse\n",
        "df.isnull().sum() # no missing values"
      ],
      "metadata": {
        "colab": {
          "base_uri": "https://localhost:8080/"
        },
        "id": "8xIKzu65JQpx",
        "outputId": "9f65e0b9-d7c2-43f3-e45d-81576d41c086"
      },
      "execution_count": null,
      "outputs": [
        {
          "output_type": "execute_result",
          "data": {
            "text/plain": [
              "Age            0\n",
              "SystolicBP     0\n",
              "DiastolicBP    0\n",
              "BS             0\n",
              "BodyTemp       0\n",
              "HeartRate      0\n",
              "RiskLevel      0\n",
              "dtype: int64"
            ]
          },
          "metadata": {},
          "execution_count": 466
        }
      ]
    },
    {
      "cell_type": "markdown",
      "source": [
        "#### **1.3.2. Duplicated Values**"
      ],
      "metadata": {
        "id": "8SOCj19CIJZ5"
      }
    },
    {
      "cell_type": "code",
      "source": [
        "#Duplicated values \n",
        "duplicated_val = df.duplicated()\n",
        "duplicated_val "
      ],
      "metadata": {
        "colab": {
          "base_uri": "https://localhost:8080/"
        },
        "id": "PN9iMZQCJcur",
        "outputId": "343e2392-e35d-49c3-9d33-1a39aa6148fb"
      },
      "execution_count": null,
      "outputs": [
        {
          "output_type": "execute_result",
          "data": {
            "text/plain": [
              "0       False\n",
              "1       False\n",
              "2       False\n",
              "3       False\n",
              "4       False\n",
              "        ...  \n",
              "1009     True\n",
              "1010     True\n",
              "1011     True\n",
              "1012     True\n",
              "1013     True\n",
              "Length: 1014, dtype: bool"
            ]
          },
          "metadata": {},
          "execution_count": 467
        }
      ]
    },
    {
      "cell_type": "code",
      "source": [
        "#dropping duplicated values\n",
        "df = df.drop_duplicates()\n",
        "df.shape"
      ],
      "metadata": {
        "colab": {
          "base_uri": "https://localhost:8080/"
        },
        "id": "XAPuRHYZJqWo",
        "outputId": "b2a586d9-23bd-46d8-d565-03d4e6f24393"
      },
      "execution_count": null,
      "outputs": [
        {
          "output_type": "execute_result",
          "data": {
            "text/plain": [
              "(452, 7)"
            ]
          },
          "metadata": {},
          "execution_count": 468
        }
      ]
    },
    {
      "cell_type": "markdown",
      "source": [
        "#### **1.3.3. Checking for Outliers**"
      ],
      "metadata": {
        "id": "FCWo3Eb2QMd_"
      }
    },
    {
      "cell_type": "markdown",
      "source": [
        "We plot the boxplots to determine if there are outliers in the data:"
      ],
      "metadata": {
        "id": "JayJYKVlSRyK"
      }
    },
    {
      "cell_type": "code",
      "source": [
        "df.columns"
      ],
      "metadata": {
        "colab": {
          "base_uri": "https://localhost:8080/"
        },
        "id": "KkmWmjdNQAvT",
        "outputId": "bbf8ecf2-6ad8-4da4-d3ef-74fef49f3b51"
      },
      "execution_count": null,
      "outputs": [
        {
          "output_type": "execute_result",
          "data": {
            "text/plain": [
              "Index(['Age', 'SystolicBP', 'DiastolicBP', 'BS', 'BodyTemp', 'HeartRate',\n",
              "       'RiskLevel'],\n",
              "      dtype='object')"
            ]
          },
          "metadata": {},
          "execution_count": 469
        }
      ]
    },
    {
      "cell_type": "code",
      "source": [
        "df.boxplot(column=['Age'])"
      ],
      "metadata": {
        "colab": {
          "base_uri": "https://localhost:8080/",
          "height": 283
        },
        "id": "goGNFvzvPcGO",
        "outputId": "255bbe33-558a-449d-8fd8-cdcee08b3382"
      },
      "execution_count": null,
      "outputs": [
        {
          "output_type": "execute_result",
          "data": {
            "text/plain": [
              "<matplotlib.axes._subplots.AxesSubplot at 0x7f7afac63890>"
            ]
          },
          "metadata": {},
          "execution_count": 470
        },
        {
          "output_type": "display_data",
          "data": {
            "text/plain": [
              "<Figure size 432x288 with 1 Axes>"
            ],
            "image/png": "[encoded data removed]"
          },
          "metadata": {
            "needs_background": "light"
          }
        }
      ]
    },
    {
      "cell_type": "code",
      "source": [
        "df.boxplot(column=['SystolicBP', 'DiastolicBP'])"
      ],
      "metadata": {
        "colab": {
          "base_uri": "https://localhost:8080/",
          "height": 283
        },
        "id": "NZ7KyurSQfUF",
        "outputId": "786dfc8f-f5dc-4da2-a63f-02e953bcc2c4"
      },
      "execution_count": null,
      "outputs": [
        {
          "output_type": "execute_result",
          "data": {
            "text/plain": [
              "<matplotlib.axes._subplots.AxesSubplot at 0x7f7af8d74550>"
            ]
          },
          "metadata": {},
          "execution_count": 471
        },
        {
          "output_type": "display_data",
          "data": {
            "text/plain": [
              "<Figure size 432x288 with 1 Axes>"
            ],
            "image/png": "[encoded data removed]"
          },
          "metadata": {
            "needs_background": "light"
          }
        }
      ]
    },
    {
      "cell_type": "code",
      "source": [
        "df.boxplot(column=['BS'])"
      ],
      "metadata": {
        "colab": {
          "base_uri": "https://localhost:8080/",
          "height": 283
        },
        "id": "na7eXDfOQ1Pw",
        "outputId": "152b815b-9f14-4a96-9daf-a869b1b0d8a4"
      },
      "execution_count": null,
      "outputs": [
        {
          "output_type": "execute_result",
          "data": {
            "text/plain": [
              "<matplotlib.axes._subplots.AxesSubplot at 0x7f7af8cd2390>"
            ]
          },
          "metadata": {},
          "execution_count": 472
        },
        {
          "output_type": "display_data",
          "data": {
            "text/plain": [
              "<Figure size 432x288 with 1 Axes>"
            ],
            "image/png": "[encoded data removed]"
          },
          "metadata": {
            "needs_background": "light"
          }
        }
      ]
    },
    {
      "cell_type": "code",
      "source": [
        "df.boxplot(column=['BodyTemp'])"
      ],
      "metadata": {
        "colab": {
          "base_uri": "https://localhost:8080/",
          "height": 283
        },
        "id": "CsA32XSQRSRI",
        "outputId": "617e3297-0ee6-4563-eced-1761dfdd5f15"
      },
      "execution_count": null,
      "outputs": [
        {
          "output_type": "execute_result",
          "data": {
            "text/plain": [
              "<matplotlib.axes._subplots.AxesSubplot at 0x7f7af8c79210>"
            ]
          },
          "metadata": {},
          "execution_count": 473
        },
        {
          "output_type": "display_data",
          "data": {
            "text/plain": [
              "<Figure size 432x288 with 1 Axes>"
            ],
            "image/png": "[encoded data removed]"
          },
          "metadata": {
            "needs_background": "light"
          }
        }
      ]
    },
    {
      "cell_type": "code",
      "source": [
        "df.boxplot(column=['HeartRate'])"
      ],
      "metadata": {
        "colab": {
          "base_uri": "https://localhost:8080/",
          "height": 283
        },
        "id": "_YbkyxtFRYhy",
        "outputId": "ac0399a8-30e6-4d45-9e66-fbba37c6f4d1"
      },
      "execution_count": null,
      "outputs": [
        {
          "output_type": "execute_result",
          "data": {
            "text/plain": [
              "<matplotlib.axes._subplots.AxesSubplot at 0x7f7af8bd2a50>"
            ]
          },
          "metadata": {},
          "execution_count": 474
        },
        {
          "output_type": "display_data",
          "data": {
            "text/plain": [
              "<Figure size 432x288 with 1 Axes>"
            ],
            "image/png": "[encoded data removed]"
          },
          "metadata": {
            "needs_background": "light"
          }
        }
      ]
    },
    {
      "cell_type": "markdown",
      "source": [
        "### **1.4. Correlation**"
      ],
      "metadata": {
        "id": "QyyUe1miIQl4"
      }
    },
    {
      "cell_type": "code",
      "source": [
        "df['RiskLevel'].value_counts()"
      ],
      "metadata": {
        "colab": {
          "base_uri": "https://localhost:8080/"
        },
        "id": "4oyWic8bNBa-",
        "outputId": "d40b2250-eea8-4b3e-b08b-18996bec4325"
      },
      "execution_count": null,
      "outputs": [
        {
          "output_type": "execute_result",
          "data": {
            "text/plain": [
              "0.0    234\n",
              "2.0    112\n",
              "1.0    106\n",
              "Name: RiskLevel, dtype: int64"
            ]
          },
          "metadata": {},
          "execution_count": 475
        }
      ]
    },
    {
      "cell_type": "code",
      "source": [
        "df.corr()"
      ],
      "metadata": {
        "colab": {
          "base_uri": "https://localhost:8080/",
          "height": 313
        },
        "id": "Uzem0WRiNSAB",
        "outputId": "f921e823-b92d-4b50-afeb-fa3642b141c0"
      },
      "execution_count": null,
      "outputs": [
        {
          "output_type": "execute_result",
          "data": {
            "text/plain": [
              "                  Age  SystolicBP  DiastolicBP        BS  BodyTemp  HeartRate  \\\n",
              "Age          1.000000    0.375931     0.347846  0.376616 -0.188843   0.077407   \n",
              "SystolicBP   0.375931    1.000000     0.790002  0.347534 -0.207267  -0.006088   \n",
              "DiastolicBP  0.347846    0.790002     1.000000  0.300423 -0.201992  -0.016470   \n",
              "BS           0.376616    0.347534     0.300423  1.000000 -0.042511   0.135605   \n",
              "BodyTemp    -0.188843   -0.207267    -0.201992 -0.042511  1.000000   0.087262   \n",
              "HeartRate    0.077407   -0.006088    -0.016470  0.135605  0.087262   1.000000   \n",
              "RiskLevel    0.183010    0.327365     0.254239  0.548888  0.259701   0.183289   \n",
              "\n",
              "             RiskLevel  \n",
              "Age           0.183010  \n",
              "SystolicBP    0.327365  \n",
              "DiastolicBP   0.254239  \n",
              "BS            0.548888  \n",
              "BodyTemp      0.259701  \n",
              "HeartRate     0.183289  \n",
              "RiskLevel     1.000000  "
            ],
            "text/html": [
              "\n",
              "  <div id=\"df-dc8f17aa-4eaf-4d18-920a-0936cf2c0b59\">\n",
              "    <div class=\"colab-df-container\">\n",
              "      <div>\n",
              "<style scoped>\n",
              "    .dataframe tbody tr th:only-of-type {\n",
              "        vertical-align: middle;\n",
              "    }\n",
              "\n",
              "    .dataframe tbody tr th {\n",
              "        vertical-align: top;\n",
              "    }\n",
              "\n",
              "    .dataframe thead th {\n",
              "        text-align: right;\n",
              "    }\n",
              "</style>\n",
              "<table border=\"1\" class=\"dataframe\">\n",
              "  <thead>\n",
              "    <tr style=\"text-align: right;\">\n",
              "      <th></th>\n",
              "      <th>Age</th>\n",
              "      <th>SystolicBP</th>\n",
              "      <th>DiastolicBP</th>\n",
              "      <th>BS</th>\n",
              "      <th>BodyTemp</th>\n",
              "      <th>HeartRate</th>\n",
              "      <th>RiskLevel</th>\n",
              "    </tr>\n",
              "  </thead>\n",
              "  <tbody>\n",
              "    <tr>\n",
              "      <th>Age</th>\n",
              "      <td>1.000000</td>\n",
              "      <td>0.375931</td>\n",
              "      <td>0.347846</td>\n",
              "      <td>0.376616</td>\n",
              "      <td>-0.188843</td>\n",
              "      <td>0.077407</td>\n",
              "      <td>0.183010</td>\n",
              "    </tr>\n",
              "    <tr>\n",
              "      <th>SystolicBP</th>\n",
              "      <td>0.375931</td>\n",
              "      <td>1.000000</td>\n",
              "      <td>0.790002</td>\n",
              "      <td>0.347534</td>\n",
              "      <td>-0.207267</td>\n",
              "      <td>-0.006088</td>\n",
              "      <td>0.327365</td>\n",
              "    </tr>\n",
              "    <tr>\n",
              "      <th>DiastolicBP</th>\n",
              "      <td>0.347846</td>\n",
              "      <td>0.790002</td>\n",
              "      <td>1.000000</td>\n",
              "      <td>0.300423</td>\n",
              "      <td>-0.201992</td>\n",
              "      <td>-0.016470</td>\n",
              "      <td>0.254239</td>\n",
              "    </tr>\n",
              "    <tr>\n",
              "      <th>BS</th>\n",
              "      <td>0.376616</td>\n",
              "      <td>0.347534</td>\n",
              "      <td>0.300423</td>\n",
              "      <td>1.000000</td>\n",
              "      <td>-0.042511</td>\n",
              "      <td>0.135605</td>\n",
              "      <td>0.548888</td>\n",
              "    </tr>\n",
              "    <tr>\n",
              "      <th>BodyTemp</th>\n",
              "      <td>-0.188843</td>\n",
              "      <td>-0.207267</td>\n",
              "      <td>-0.201992</td>\n",
              "      <td>-0.042511</td>\n",
              "      <td>1.000000</td>\n",
              "      <td>0.087262</td>\n",
              "      <td>0.259701</td>\n",
              "    </tr>\n",
              "    <tr>\n",
              "      <th>HeartRate</th>\n",
              "      <td>0.077407</td>\n",
              "      <td>-0.006088</td>\n",
              "      <td>-0.016470</td>\n",
              "      <td>0.135605</td>\n",
              "      <td>0.087262</td>\n",
              "      <td>1.000000</td>\n",
              "      <td>0.183289</td>\n",
              "    </tr>\n",
              "    <tr>\n",
              "      <th>RiskLevel</th>\n",
              "      <td>0.183010</td>\n",
              "      <td>0.327365</td>\n",
              "      <td>0.254239</td>\n",
              "      <td>0.548888</td>\n",
              "      <td>0.259701</td>\n",
              "      <td>0.183289</td>\n",
              "      <td>1.000000</td>\n",
              "    </tr>\n",
              "  </tbody>\n",
              "</table>\n",
              "</div>\n",
              "      <button class=\"colab-df-convert\" onclick=\"convertToInteractive('df-dc8f17aa-4eaf-4d18-920a-0936cf2c0b59')\"\n",
              "              title=\"Convert this dataframe to an interactive table.\"\n",
              "              style=\"display:none;\">\n",
              "        \n",
              "  <svg xmlns=\"http://www.w3.org/2000/svg\" height=\"24px\"viewBox=\"0 0 24 24\"\n",
              "       width=\"24px\">\n",
              "    <path d=\"M0 0h24v24H0V0z\" fill=\"none\"/>\n",
              "    <path d=\"M18.56 5.44l.94 2.06.94-2.06 2.06-.94-2.06-.94-.94-2.06-.94 2.06-2.06.94zm-11 1L8.5 8.5l.94-2.06 2.06-.94-2.06-.94L8.5 2.5l-.94 2.06-2.06.94zm10 10l.94 2.06.94-2.06 2.06-.94-2.06-.94-.94-2.06-.94 2.06-2.06.94z\"/><path d=\"M17.41 7.96l-1.37-1.37c-.4-.4-.92-.59-1.43-.59-.52 0-1.04.2-1.43.59L10.3 9.45l-7.72 7.72c-.78.78-.78 2.05 0 2.83L4 21.41c.39.39.9.59 1.41.59.51 0 1.02-.2 1.41-.59l7.78-7.78 2.81-2.81c.8-.78.8-2.07 0-2.86zM5.41 20L4 18.59l7.72-7.72 1.47 1.35L5.41 20z\"/>\n",
              "  </svg>\n",
              "      </button>\n",
              "      \n",
              "  <style>\n",
              "    .colab-df-container {\n",
              "      display:flex;\n",
              "      flex-wrap:wrap;\n",
              "      gap: 12px;\n",
              "    }\n",
              "\n",
              "    .colab-df-convert {\n",
              "      background-color: #E8F0FE;\n",
              "      border: none;\n",
              "      border-radius: 50%;\n",
              "      cursor: pointer;\n",
              "      display: none;\n",
              "      fill: #1967D2;\n",
              "      height: 32px;\n",
              "      padding: 0 0 0 0;\n",
              "      width: 32px;\n",
              "    }\n",
              "\n",
              "    .colab-df-convert:hover {\n",
              "      background-color: #E2EBFA;\n",
              "      box-shadow: 0px 1px 2px rgba(60, 64, 67, 0.3), 0px 1px 3px 1px rgba(60, 64, 67, 0.15);\n",
              "      fill: #174EA6;\n",
              "    }\n",
              "\n",
              "    [theme=dark] .colab-df-convert {\n",
              "      background-color: #3B4455;\n",
              "      fill: #D2E3FC;\n",
              "    }\n",
              "\n",
              "    [theme=dark] .colab-df-convert:hover {\n",
              "      background-color: #434B5C;\n",
              "      box-shadow: 0px 1px 3px 1px rgba(0, 0, 0, 0.15);\n",
              "      filter: drop-shadow(0px 1px 2px rgba(0, 0, 0, 0.3));\n",
              "      fill: #FFFFFF;\n",
              "    }\n",
              "  </style>\n",
              "\n",
              "      <script>\n",
              "        const buttonEl =\n",
              "          document.querySelector('#df-dc8f17aa-4eaf-4d18-920a-0936cf2c0b59 button.colab-df-convert');\n",
              "        buttonEl.style.display =\n",
              "          google.colab.kernel.accessAllowed ? 'block' : 'none';\n",
              "\n",
              "        async function convertToInteractive(key) {\n",
              "          const element = document.querySelector('#df-dc8f17aa-4eaf-4d18-920a-0936cf2c0b59');\n",
              "          const dataTable =\n",
              "            await google.colab.kernel.invokeFunction('convertToInteractive',\n",
              "                                                     [key], {});\n",
              "          if (!dataTable) return;\n",
              "\n",
              "          const docLinkHtml = 'Like what you see? Visit the ' +\n",
              "            '<a target=\"_blank\" href=https://colab.research.google.com/notebooks/data_table.ipynb>data table notebook</a>'\n",
              "            + ' to learn more about interactive tables.';\n",
              "          element.innerHTML = '';\n",
              "          dataTable['output_type'] = 'display_data';\n",
              "          await google.colab.output.renderOutput(dataTable, element);\n",
              "          const docLink = document.createElement('div');\n",
              "          docLink.innerHTML = docLinkHtml;\n",
              "          element.appendChild(docLink);\n",
              "        }\n",
              "      </script>\n",
              "    </div>\n",
              "  </div>\n",
              "  "
            ]
          },
          "metadata": {},
          "execution_count": 476
        }
      ]
    },
    {
      "cell_type": "code",
      "source": [
        "corr = df.corr()\n",
        "\n",
        "corr.style.background_gradient(cmap='coolwarm')"
      ],
      "metadata": {
        "colab": {
          "base_uri": "https://localhost:8080/",
          "height": 269
        },
        "id": "gWaVHrN3Ovz7",
        "outputId": "97c9f259-8fe9-4ffc-8cd6-9da5b4370c47"
      },
      "execution_count": null,
      "outputs": [
        {
          "output_type": "execute_result",
          "data": {
            "text/plain": [
              "<pandas.io.formats.style.Styler at 0x7f7af8b8f550>"
            ],
            "text/html": [
              "<style type=\"text/css\">\n",
              "#T_f0353_row0_col0, #T_f0353_row1_col1, #T_f0353_row2_col2, #T_f0353_row3_col3, #T_f0353_row4_col4, #T_f0353_row5_col5, #T_f0353_row6_col6 {\n",
              "  background-color: #b40426;\n",
              "  color: #f1f1f1;\n",
              "}\n",
              "#T_f0353_row0_col1 {\n",
              "  background-color: #d8dce2;\n",
              "  color: #000000;\n",
              "}\n",
              "#T_f0353_row0_col2, #T_f0353_row3_col1 {\n",
              "  background-color: #d2dbe8;\n",
              "  color: #000000;\n",
              "}\n",
              "#T_f0353_row0_col3 {\n",
              "  background-color: #c0d4f5;\n",
              "  color: #000000;\n",
              "}\n",
              "#T_f0353_row0_col4 {\n",
              "  background-color: #3e51c5;\n",
              "  color: #f1f1f1;\n",
              "}\n",
              "#T_f0353_row0_col5 {\n",
              "  background-color: #5673e0;\n",
              "  color: #f1f1f1;\n",
              "}\n",
              "#T_f0353_row0_col6, #T_f0353_row1_col4, #T_f0353_row2_col5, #T_f0353_row4_col0, #T_f0353_row4_col1, #T_f0353_row4_col2, #T_f0353_row4_col3, #T_f0353_row5_col6 {\n",
              "  background-color: #3b4cc0;\n",
              "  color: #f1f1f1;\n",
              "}\n",
              "#T_f0353_row1_col0, #T_f0353_row3_col0 {\n",
              "  background-color: #d6dce4;\n",
              "  color: #000000;\n",
              "}\n",
              "#T_f0353_row1_col2, #T_f0353_row2_col1 {\n",
              "  background-color: #e9785d;\n",
              "  color: #f1f1f1;\n",
              "}\n",
              "#T_f0353_row1_col3 {\n",
              "  background-color: #b7cff9;\n",
              "  color: #000000;\n",
              "}\n",
              "#T_f0353_row1_col5 {\n",
              "  background-color: #3d50c3;\n",
              "  color: #f1f1f1;\n",
              "}\n",
              "#T_f0353_row1_col6 {\n",
              "  background-color: #7396f5;\n",
              "  color: #f1f1f1;\n",
              "}\n",
              "#T_f0353_row2_col0 {\n",
              "  background-color: #cfdaea;\n",
              "  color: #000000;\n",
              "}\n",
              "#T_f0353_row2_col3 {\n",
              "  background-color: #a9c6fd;\n",
              "  color: #000000;\n",
              "}\n",
              "#T_f0353_row2_col4 {\n",
              "  background-color: #3c4ec2;\n",
              "  color: #f1f1f1;\n",
              "}\n",
              "#T_f0353_row2_col6 {\n",
              "  background-color: #5572df;\n",
              "  color: #f1f1f1;\n",
              "}\n",
              "#T_f0353_row3_col2 {\n",
              "  background-color: #c6d6f1;\n",
              "  color: #000000;\n",
              "}\n",
              "#T_f0353_row3_col4 {\n",
              "  background-color: #6485ec;\n",
              "  color: #f1f1f1;\n",
              "}\n",
              "#T_f0353_row3_col5 {\n",
              "  background-color: #6a8bef;\n",
              "  color: #f1f1f1;\n",
              "}\n",
              "#T_f0353_row3_col6 {\n",
              "  background-color: #cedaeb;\n",
              "  color: #000000;\n",
              "}\n",
              "#T_f0353_row4_col5 {\n",
              "  background-color: #5a78e4;\n",
              "  color: #f1f1f1;\n",
              "}\n",
              "#T_f0353_row4_col6 {\n",
              "  background-color: #5875e1;\n",
              "  color: #f1f1f1;\n",
              "}\n",
              "#T_f0353_row5_col0 {\n",
              "  background-color: #84a7fc;\n",
              "  color: #f1f1f1;\n",
              "}\n",
              "#T_f0353_row5_col1 {\n",
              "  background-color: #6f92f3;\n",
              "  color: #f1f1f1;\n",
              "}\n",
              "#T_f0353_row5_col2 {\n",
              "  background-color: #6b8df0;\n",
              "  color: #f1f1f1;\n",
              "}\n",
              "#T_f0353_row5_col3 {\n",
              "  background-color: #7093f3;\n",
              "  color: #f1f1f1;\n",
              "}\n",
              "#T_f0353_row5_col4 {\n",
              "  background-color: #8badfd;\n",
              "  color: #000000;\n",
              "}\n",
              "#T_f0353_row6_col0 {\n",
              "  background-color: #a3c2fe;\n",
              "  color: #000000;\n",
              "}\n",
              "#T_f0353_row6_col1 {\n",
              "  background-color: #cdd9ec;\n",
              "  color: #000000;\n",
              "}\n",
              "#T_f0353_row6_col2 {\n",
              "  background-color: #bad0f8;\n",
              "  color: #000000;\n",
              "}\n",
              "#T_f0353_row6_col3 {\n",
              "  background-color: #edd2c3;\n",
              "  color: #000000;\n",
              "}\n",
              "#T_f0353_row6_col4 {\n",
              "  background-color: #bcd2f7;\n",
              "  color: #000000;\n",
              "}\n",
              "#T_f0353_row6_col5 {\n",
              "  background-color: #7a9df8;\n",
              "  color: #f1f1f1;\n",
              "}\n",
              "</style>\n",
              "<table id=\"T_f0353_\" class=\"dataframe\">\n",
              "  <thead>\n",
              "    <tr>\n",
              "      <th class=\"blank level0\" >&nbsp;</th>\n",
              "      <th class=\"col_heading level0 col0\" >Age</th>\n",
              "      <th class=\"col_heading level0 col1\" >SystolicBP</th>\n",
              "      <th class=\"col_heading level0 col2\" >DiastolicBP</th>\n",
              "      <th class=\"col_heading level0 col3\" >BS</th>\n",
              "      <th class=\"col_heading level0 col4\" >BodyTemp</th>\n",
              "      <th class=\"col_heading level0 col5\" >HeartRate</th>\n",
              "      <th class=\"col_heading level0 col6\" >RiskLevel</th>\n",
              "    </tr>\n",
              "  </thead>\n",
              "  <tbody>\n",
              "    <tr>\n",
              "      <th id=\"T_f0353_level0_row0\" class=\"row_heading level0 row0\" >Age</th>\n",
              "      <td id=\"T_f0353_row0_col0\" class=\"data row0 col0\" >1.000000</td>\n",
              "      <td id=\"T_f0353_row0_col1\" class=\"data row0 col1\" >0.375931</td>\n",
              "      <td id=\"T_f0353_row0_col2\" class=\"data row0 col2\" >0.347846</td>\n",
              "      <td id=\"T_f0353_row0_col3\" class=\"data row0 col3\" >0.376616</td>\n",
              "      <td id=\"T_f0353_row0_col4\" class=\"data row0 col4\" >-0.188843</td>\n",
              "      <td id=\"T_f0353_row0_col5\" class=\"data row0 col5\" >0.077407</td>\n",
              "      <td id=\"T_f0353_row0_col6\" class=\"data row0 col6\" >0.183010</td>\n",
              "    </tr>\n",
              "    <tr>\n",
              "      <th id=\"T_f0353_level0_row1\" class=\"row_heading level0 row1\" >SystolicBP</th>\n",
              "      <td id=\"T_f0353_row1_col0\" class=\"data row1 col0\" >0.375931</td>\n",
              "      <td id=\"T_f0353_row1_col1\" class=\"data row1 col1\" >1.000000</td>\n",
              "      <td id=\"T_f0353_row1_col2\" class=\"data row1 col2\" >0.790002</td>\n",
              "      <td id=\"T_f0353_row1_col3\" class=\"data row1 col3\" >0.347534</td>\n",
              "      <td id=\"T_f0353_row1_col4\" class=\"data row1 col4\" >-0.207267</td>\n",
              "      <td id=\"T_f0353_row1_col5\" class=\"data row1 col5\" >-0.006088</td>\n",
              "      <td id=\"T_f0353_row1_col6\" class=\"data row1 col6\" >0.327365</td>\n",
              "    </tr>\n",
              "    <tr>\n",
              "      <th id=\"T_f0353_level0_row2\" class=\"row_heading level0 row2\" >DiastolicBP</th>\n",
              "      <td id=\"T_f0353_row2_col0\" class=\"data row2 col0\" >0.347846</td>\n",
              "      <td id=\"T_f0353_row2_col1\" class=\"data row2 col1\" >0.790002</td>\n",
              "      <td id=\"T_f0353_row2_col2\" class=\"data row2 col2\" >1.000000</td>\n",
              "      <td id=\"T_f0353_row2_col3\" class=\"data row2 col3\" >0.300423</td>\n",
              "      <td id=\"T_f0353_row2_col4\" class=\"data row2 col4\" >-0.201992</td>\n",
              "      <td id=\"T_f0353_row2_col5\" class=\"data row2 col5\" >-0.016470</td>\n",
              "      <td id=\"T_f0353_row2_col6\" class=\"data row2 col6\" >0.254239</td>\n",
              "    </tr>\n",
              "    <tr>\n",
              "      <th id=\"T_f0353_level0_row3\" class=\"row_heading level0 row3\" >BS</th>\n",
              "      <td id=\"T_f0353_row3_col0\" class=\"data row3 col0\" >0.376616</td>\n",
              "      <td id=\"T_f0353_row3_col1\" class=\"data row3 col1\" >0.347534</td>\n",
              "      <td id=\"T_f0353_row3_col2\" class=\"data row3 col2\" >0.300423</td>\n",
              "      <td id=\"T_f0353_row3_col3\" class=\"data row3 col3\" >1.000000</td>\n",
              "      <td id=\"T_f0353_row3_col4\" class=\"data row3 col4\" >-0.042511</td>\n",
              "      <td id=\"T_f0353_row3_col5\" class=\"data row3 col5\" >0.135605</td>\n",
              "      <td id=\"T_f0353_row3_col6\" class=\"data row3 col6\" >0.548888</td>\n",
              "    </tr>\n",
              "    <tr>\n",
              "      <th id=\"T_f0353_level0_row4\" class=\"row_heading level0 row4\" >BodyTemp</th>\n",
              "      <td id=\"T_f0353_row4_col0\" class=\"data row4 col0\" >-0.188843</td>\n",
              "      <td id=\"T_f0353_row4_col1\" class=\"data row4 col1\" >-0.207267</td>\n",
              "      <td id=\"T_f0353_row4_col2\" class=\"data row4 col2\" >-0.201992</td>\n",
              "      <td id=\"T_f0353_row4_col3\" class=\"data row4 col3\" >-0.042511</td>\n",
              "      <td id=\"T_f0353_row4_col4\" class=\"data row4 col4\" >1.000000</td>\n",
              "      <td id=\"T_f0353_row4_col5\" class=\"data row4 col5\" >0.087262</td>\n",
              "      <td id=\"T_f0353_row4_col6\" class=\"data row4 col6\" >0.259701</td>\n",
              "    </tr>\n",
              "    <tr>\n",
              "      <th id=\"T_f0353_level0_row5\" class=\"row_heading level0 row5\" >HeartRate</th>\n",
              "      <td id=\"T_f0353_row5_col0\" class=\"data row5 col0\" >0.077407</td>\n",
              "      <td id=\"T_f0353_row5_col1\" class=\"data row5 col1\" >-0.006088</td>\n",
              "      <td id=\"T_f0353_row5_col2\" class=\"data row5 col2\" >-0.016470</td>\n",
              "      <td id=\"T_f0353_row5_col3\" class=\"data row5 col3\" >0.135605</td>\n",
              "      <td id=\"T_f0353_row5_col4\" class=\"data row5 col4\" >0.087262</td>\n",
              "      <td id=\"T_f0353_row5_col5\" class=\"data row5 col5\" >1.000000</td>\n",
              "      <td id=\"T_f0353_row5_col6\" class=\"data row5 col6\" >0.183289</td>\n",
              "    </tr>\n",
              "    <tr>\n",
              "      <th id=\"T_f0353_level0_row6\" class=\"row_heading level0 row6\" >RiskLevel</th>\n",
              "      <td id=\"T_f0353_row6_col0\" class=\"data row6 col0\" >0.183010</td>\n",
              "      <td id=\"T_f0353_row6_col1\" class=\"data row6 col1\" >0.327365</td>\n",
              "      <td id=\"T_f0353_row6_col2\" class=\"data row6 col2\" >0.254239</td>\n",
              "      <td id=\"T_f0353_row6_col3\" class=\"data row6 col3\" >0.548888</td>\n",
              "      <td id=\"T_f0353_row6_col4\" class=\"data row6 col4\" >0.259701</td>\n",
              "      <td id=\"T_f0353_row6_col5\" class=\"data row6 col5\" >0.183289</td>\n",
              "      <td id=\"T_f0353_row6_col6\" class=\"data row6 col6\" >1.000000</td>\n",
              "    </tr>\n",
              "  </tbody>\n",
              "</table>\n"
            ]
          },
          "metadata": {},
          "execution_count": 477
        }
      ]
    },
    {
      "cell_type": "code",
      "source": [
        "hm = sns.heatmap(df.corr(), annot = True)\n",
        "\n",
        "hm.set(#xlabel='XXX', ylabel='YYY',\n",
        "       title = \"Correlation matrix of Maternal Health Risk Data Set\\n\")\n",
        "\n",
        "plt.show()"
      ],
      "metadata": {
        "colab": {
          "base_uri": "https://localhost:8080/",
          "height": 342
        },
        "id": "WWHmgBJAPkX0",
        "outputId": "55ae6076-3253-479c-8351-074fefd7439f"
      },
      "execution_count": null,
      "outputs": [
        {
          "output_type": "display_data",
          "data": {
            "text/plain": [
              "<Figure size 432x288 with 2 Axes>"
            ],
            "image/png": "[encoded data removed]"
          },
          "metadata": {
            "needs_background": "light"
          }
        }
      ]
    },
    {
      "cell_type": "markdown",
      "source": [
        "### **1.5. Shuffle data and split train/test data**\n",
        "Seperate RiskLevel"
      ],
      "metadata": {
        "id": "9SFnZpTeI9wP"
      }
    },
    {
      "cell_type": "code",
      "source": [
        "y = df['RiskLevel']\n",
        "X = df.drop('RiskLevel',axis=1)"
      ],
      "metadata": {
        "id": "jrZ_Xfq7I9wQ"
      },
      "execution_count": null,
      "outputs": []
    },
    {
      "cell_type": "code",
      "source": [
        "from sklearn.model_selection import train_test_split\n",
        "X_train, X_test, y_train, y_test = train_test_split(X, y, test_size=0.3, random_state=123, shuffle = True)"
      ],
      "metadata": {
        "id": "wwlfquUXI9wQ"
      },
      "execution_count": null,
      "outputs": []
    },
    {
      "cell_type": "markdown",
      "source": [
        "### **1.5.1. Standardizing features**"
      ],
      "metadata": {
        "id": "ES6faD0ZTYA7"
      }
    },
    {
      "cell_type": "code",
      "source": [
        "#using StandardScaler to Standardizing X\n",
        "from sklearn.preprocessing import StandardScaler\n",
        "scaler = StandardScaler()\n",
        "X_train = scaler.fit_transform(X_train)\n",
        "X_test= scaler.transform(X_test)"
      ],
      "metadata": {
        "id": "sxevHhhgTskL"
      },
      "execution_count": null,
      "outputs": []
    },
    {
      "cell_type": "markdown",
      "source": [
        "### **1.6. Classification**"
      ],
      "metadata": {
        "id": "E6uwfB4h6-zZ"
      }
    },
    {
      "cell_type": "markdown",
      "source": [
        "1. *   Classification Model\n",
        "   *   Confusion Matrix\n",
        "   *   Train/Test Accuracy\n",
        "   *   Classification Report\n",
        "\n",
        "For both before and after parameter tuning using cross validation"
      ],
      "metadata": {
        "id": "MupfgFFiKnvN"
      }
    },
    {
      "cell_type": "code",
      "source": [
        "accTable = {'Classification': [\"Decision Tree\",\"Decision Tree\",\"KNN\",\"KNN\",\"SVM\",\"SVM\",\"Random Forest\",\"Random Forest\"],\n",
        "            'ParameterTuning': [\"before\", \"after\",\"before\", \"after\",\"before\", \"after\",\"before\", \"after\"],\n",
        "            'Accuracy': [0 for i in range(8)],\n",
        "            'Train accuracy': [0 for i in range(8)],\n",
        "            'Test accuracy': [0 for i in range(8)]}\n",
        "\n",
        "accDF = pd.DataFrame(data=accTable)"
      ],
      "metadata": {
        "id": "U-91d6KUjq44"
      },
      "execution_count": null,
      "outputs": []
    },
    {
      "cell_type": "markdown",
      "source": [
        "#### **1.6.1. Decision Tree**"
      ],
      "metadata": {
        "id": "ipez9D4k7FDp"
      }
    },
    {
      "cell_type": "code",
      "source": [
        "decision_tree = DecisionTreeClassifier() #criterion{“gini”, “entropy”}, default=”gini”\n",
        "decision_tree.fit(X_train, y_train)\n",
        "\n",
        "y_pred = decision_tree.predict(X_test)\n",
        "dt_cm = confusion_matrix(y_test, y_pred)\n",
        "print('decision_tree confusion_matrix :\\n', dt_cm)\n",
        "accDF.iat[0, 2]= round(accuracy_score(y_test, y_pred)* 100, 2)\n",
        "accDF.iat[0, 3]= round(decision_tree.score(X_train,y_train)* 100, 2)\n",
        "accDF.iat[0, 4]= round(decision_tree.score(X_test,y_test)* 100, 2)\n",
        "\n",
        "print('Accuracy:', accDF.iat[0, 2] ,'%')\n",
        "print(\"Train accuracy:\",accDF.iat[0, 3],'%')\n",
        "print(\"Test accuracy:\",accDF.iat[0, 4],'%')\n",
        "print(\"classification_report:\\n\",classification_report(y_test, decision_tree.predict(X_test)))"
      ],
      "metadata": {
        "colab": {
          "base_uri": "https://localhost:8080/"
        },
        "id": "FYb0yYkTm_xV",
        "outputId": "1ca7f359-c22c-402a-a6ca-8845385c6908"
      },
      "execution_count": null,
      "outputs": [
        {
          "output_type": "stream",
          "name": "stdout",
          "text": [
            "decision_tree confusion_matrix :\n",
            " [[57  8  5]\n",
            " [19 11 11]\n",
            " [ 2  5 18]]\n",
            "Accuracy: 63.24 %\n",
            "Train accuracy: 95.25 %\n",
            "Test accuracy: 63.24 %\n",
            "classification_report:\n",
            "               precision    recall  f1-score   support\n",
            "\n",
            "         0.0       0.73      0.81      0.77        70\n",
            "         1.0       0.46      0.27      0.34        41\n",
            "         2.0       0.53      0.72      0.61        25\n",
            "\n",
            "    accuracy                           0.63       136\n",
            "   macro avg       0.57      0.60      0.57       136\n",
            "weighted avg       0.61      0.63      0.61       136\n",
            "\n"
          ]
        }
      ]
    },
    {
      "cell_type": "markdown",
      "source": [
        "**Decision Tree Parameter tuning using Cross Validation**"
      ],
      "metadata": {
        "id": "s96nRc8y67IS"
      }
    },
    {
      "cell_type": "code",
      "source": [
        "tree_param_grid = {'max_features': ['auto', 'sqrt', 'log2'],\n",
        "              'ccp_alpha': [0.1, .01, .001],\n",
        "              'max_depth' : [5, 6, 7, 8, 9],\n",
        "              'criterion' :['gini', 'entropy']\n",
        "             }\n",
        "tree_model = DecisionTreeClassifier(random_state=42)\n",
        "tree_grid_search = GridSearchCV(estimator=tree_model, param_grid=tree_param_grid, cv=5, verbose=-1)\n",
        "tree_grid_search.fit(X_train, y_train)\n",
        "tree_grid_search.best_params_\n"
      ],
      "metadata": {
        "colab": {
          "base_uri": "https://localhost:8080/"
        },
        "id": "UO48hPaaOSGR",
        "outputId": "9aedad6f-cd9c-4f00-afb9-f5ca5c258329"
      },
      "execution_count": null,
      "outputs": [
        {
          "output_type": "execute_result",
          "data": {
            "text/plain": [
              "{'ccp_alpha': 0.01,\n",
              " 'criterion': 'entropy',\n",
              " 'max_depth': 6,\n",
              " 'max_features': 'auto'}"
            ]
          },
          "metadata": {},
          "execution_count": 484
        }
      ]
    },
    {
      "cell_type": "code",
      "source": [
        "best_params_ = list(tree_grid_search.best_params_.values())\n",
        "decision_tree = DecisionTreeClassifier(ccp_alpha =  best_params_[0], criterion = best_params_[1], max_depth = best_params_[2], max_features = best_params_[3]) \n",
        "decision_tree.fit(X_train, y_train)\n",
        "\n",
        "y_pred = decision_tree.predict(X_test)\n",
        "dt_cm = confusion_matrix(y_test, y_pred)\n",
        "print('decision_tree confusion_matrix :\\n', dt_cm)\n",
        "\n",
        "accDF.iat[1, 2]= round(accuracy_score(y_test, y_pred)* 100, 2)\n",
        "accDF.iat[1, 3]= round(decision_tree.score(X_train,y_train)* 100, 2)\n",
        "accDF.iat[1, 4]= round(decision_tree.score(X_test,y_test)* 100, 2)\n",
        "\n",
        "print('Accuracy:', accDF.iat[1, 2] ,'%')\n",
        "print(\"Train accuracy:\",accDF.iat[1, 3],'%')\n",
        "print(\"Test accuracy:\",accDF.iat[1, 4],'%')\n",
        "print(\"classification_report:\\n\",classification_report(y_test, decision_tree.predict(X_test)))"
      ],
      "metadata": {
        "colab": {
          "base_uri": "https://localhost:8080/"
        },
        "id": "oSgnB5YfP5UO",
        "outputId": "d96d549a-37fc-4a8c-a49b-717b9ff47240"
      },
      "execution_count": null,
      "outputs": [
        {
          "output_type": "stream",
          "name": "stdout",
          "text": [
            "decision_tree confusion_matrix :\n",
            " [[64  6  0]\n",
            " [21 12  8]\n",
            " [ 2  7 16]]\n",
            "Accuracy: 67.65 %\n",
            "Train accuracy: 74.68 %\n",
            "Test accuracy: 67.65 %\n",
            "classification_report:\n",
            "               precision    recall  f1-score   support\n",
            "\n",
            "         0.0       0.74      0.91      0.82        70\n",
            "         1.0       0.48      0.29      0.36        41\n",
            "         2.0       0.67      0.64      0.65        25\n",
            "\n",
            "    accuracy                           0.68       136\n",
            "   macro avg       0.63      0.62      0.61       136\n",
            "weighted avg       0.65      0.68      0.65       136\n",
            "\n"
          ]
        }
      ]
    },
    {
      "cell_type": "markdown",
      "source": [
        "#### **1.6.2. KNN**"
      ],
      "metadata": {
        "id": "tpPmrlxb7NHh"
      }
    },
    {
      "cell_type": "code",
      "source": [
        "knn = KNeighborsClassifier(n_neighbors=3)\n",
        "knn.fit(X_train, y_train)\n",
        "y_pred = knn.predict(X_test)\n",
        "knn_cm = confusion_matrix(y_test, y_pred)\n",
        "print('knn confusion_matrix :\\n', knn_cm)\n",
        "\n",
        "accDF.iat[2, 2]= round(accuracy_score(y_test, y_pred)* 100, 2)\n",
        "accDF.iat[2, 3]= round(knn.score(X_train,y_train)* 100, 2)\n",
        "accDF.iat[2, 4]= round(knn.score(X_test,y_test)* 100, 2)\n",
        "\n",
        "print('Accuracy:', accDF.iat[2, 2] ,'%')\n",
        "print(\"Train accuracy:\",accDF.iat[2, 3],'%')\n",
        "print(\"Test accuracy:\",accDF.iat[2, 4],'%')\n",
        "\n",
        "print(\"classification_report:\\n\",classification_report(y_test, knn.predict(X_test)))"
      ],
      "metadata": {
        "colab": {
          "base_uri": "https://localhost:8080/"
        },
        "id": "3EjADKQhnAYa",
        "outputId": "ec2a29b6-a833-42df-9c82-48df0fd84ce3"
      },
      "execution_count": null,
      "outputs": [
        {
          "output_type": "stream",
          "name": "stdout",
          "text": [
            "knn confusion_matrix :\n",
            " [[63  5  2]\n",
            " [25  8  8]\n",
            " [ 7  3 15]]\n",
            "Accuracy: 63.24 %\n",
            "Train accuracy: 76.58 %\n",
            "Test accuracy: 63.24 %\n",
            "classification_report:\n",
            "               precision    recall  f1-score   support\n",
            "\n",
            "         0.0       0.66      0.90      0.76        70\n",
            "         1.0       0.50      0.20      0.28        41\n",
            "         2.0       0.60      0.60      0.60        25\n",
            "\n",
            "    accuracy                           0.63       136\n",
            "   macro avg       0.59      0.57      0.55       136\n",
            "weighted avg       0.60      0.63      0.59       136\n",
            "\n"
          ]
        }
      ]
    },
    {
      "cell_type": "markdown",
      "source": [
        "**KNN Parameter tuning using Cross Validation**"
      ],
      "metadata": {
        "id": "ClY0zwQOOO1r"
      }
    },
    {
      "cell_type": "code",
      "source": [
        "KNN_model = KNeighborsClassifier(algorithm='auto')\n",
        "KNN_random_grid = {\n",
        "    'n_neighbors': (1,10, 1),\n",
        "    'leaf_size': (20,40,1),\n",
        "    'p': (1,2),\n",
        "    'weights': ('uniform', 'distance'),\n",
        "    'metric': ('minkowski', 'chebyshev')}\n",
        "                   \n",
        "grid_search_KNN = GridSearchCV(\n",
        "    estimator=KNN_model,\n",
        "    param_grid=KNN_random_grid,\n",
        "    scoring = 'accuracy',\n",
        "    n_jobs = -1,\n",
        "    cv = 5\n",
        ")\n",
        "grid_search_KNN.fit(X_train, y_train)\n",
        "grid_search_KNN.best_params_"
      ],
      "metadata": {
        "colab": {
          "base_uri": "https://localhost:8080/"
        },
        "id": "WA18X0ybI3th",
        "outputId": "70fee090-28af-492c-f35e-fdb5ef399534"
      },
      "execution_count": null,
      "outputs": [
        {
          "output_type": "execute_result",
          "data": {
            "text/plain": [
              "{'leaf_size': 20,\n",
              " 'metric': 'minkowski',\n",
              " 'n_neighbors': 10,\n",
              " 'p': 1,\n",
              " 'weights': 'uniform'}"
            ]
          },
          "metadata": {},
          "execution_count": 487
        }
      ]
    },
    {
      "cell_type": "code",
      "source": [
        "best_params_ = list(grid_search_KNN.best_params_.values())\n",
        "knn = KNeighborsClassifier(leaf_size = best_params_[0], metric = best_params_[1], n_neighbors =  best_params_[2], p = best_params_[3], weights =  best_params_[4])\n",
        "knn.fit(X_train, y_train)\n",
        "y_pred = knn.predict(X_test)\n",
        "knn_cm = confusion_matrix(y_test, y_pred)\n",
        "print('knn confusion_matrix :\\n', knn_cm)\n",
        "\n",
        "accDF.iat[3, 2]= round(accuracy_score(y_test, y_pred)* 100, 2)\n",
        "accDF.iat[3, 3]= round(knn.score(X_train,y_train)* 100, 2)\n",
        "accDF.iat[3, 4]= round(knn.score(X_test,y_test)* 100, 2)\n",
        "\n",
        "print('Accuracy:', accDF.iat[3, 2] ,'%')\n",
        "print(\"Train accuracy:\",accDF.iat[3, 3],'%')\n",
        "print(\"Test accuracy:\",accDF.iat[3, 4],'%')\n",
        "\n",
        "print(\"classification_report:\\n\",classification_report(y_test, knn.predict(X_test)))"
      ],
      "metadata": {
        "colab": {
          "base_uri": "https://localhost:8080/"
        },
        "id": "U9y9j16HKVj8",
        "outputId": "08f17fe2-6946-45a4-9028-843327bc763a"
      },
      "execution_count": null,
      "outputs": [
        {
          "output_type": "stream",
          "name": "stdout",
          "text": [
            "knn confusion_matrix :\n",
            " [[65  2  3]\n",
            " [26  7  8]\n",
            " [ 7  2 16]]\n",
            "Accuracy: 64.71 %\n",
            "Train accuracy: 73.42 %\n",
            "Test accuracy: 64.71 %\n",
            "classification_report:\n",
            "               precision    recall  f1-score   support\n",
            "\n",
            "         0.0       0.66      0.93      0.77        70\n",
            "         1.0       0.64      0.17      0.27        41\n",
            "         2.0       0.59      0.64      0.62        25\n",
            "\n",
            "    accuracy                           0.65       136\n",
            "   macro avg       0.63      0.58      0.55       136\n",
            "weighted avg       0.64      0.65      0.59       136\n",
            "\n"
          ]
        }
      ]
    },
    {
      "cell_type": "markdown",
      "source": [
        "#### **1.6.3. SVM**"
      ],
      "metadata": {
        "id": "fhsaMv3R7SRg"
      }
    },
    {
      "cell_type": "code",
      "source": [
        "#Applying SVC (Support Vector Classification)\n",
        "svm = SVC()\n",
        "svm.fit(X_train, y_train)\n",
        "y_pred = svm.predict(X_test)\n",
        "svm_cm = confusion_matrix(y_test, y_pred)\n",
        "print('svm confusion_matrix :\\n', svm_cm)\n",
        "\n",
        "accDF.iat[4, 2]= round(accuracy_score(y_test, y_pred)* 100, 2)\n",
        "accDF.iat[4, 3]= round(svm.score(X_train,y_train)* 100, 2)\n",
        "accDF.iat[4, 4]= round(svm.score(X_test,y_test)* 100, 2)\n",
        "\n",
        "print('Accuracy:', accDF.iat[4, 2] ,'%')\n",
        "print(\"Train accuracy:\",accDF.iat[4, 3],'%')\n",
        "print(\"Test accuracy:\",accDF.iat[4, 4],'%')\n",
        "\n",
        "print(\"classification_report:\\n\",classification_report(y_test, svm.predict(X_test)))"
      ],
      "metadata": {
        "colab": {
          "base_uri": "https://localhost:8080/"
        },
        "id": "GUBE6sX0nBRB",
        "outputId": "74f567d0-c18f-4e8a-a877-c297bd3a42d0"
      },
      "execution_count": null,
      "outputs": [
        {
          "output_type": "stream",
          "name": "stdout",
          "text": [
            "svm confusion_matrix :\n",
            " [[65  0  5]\n",
            " [27  5  9]\n",
            " [ 5  1 19]]\n",
            "Accuracy: 65.44 %\n",
            "Train accuracy: 74.68 %\n",
            "Test accuracy: 65.44 %\n",
            "classification_report:\n",
            "               precision    recall  f1-score   support\n",
            "\n",
            "         0.0       0.67      0.93      0.78        70\n",
            "         1.0       0.83      0.12      0.21        41\n",
            "         2.0       0.58      0.76      0.66        25\n",
            "\n",
            "    accuracy                           0.65       136\n",
            "   macro avg       0.69      0.60      0.55       136\n",
            "weighted avg       0.70      0.65      0.59       136\n",
            "\n"
          ]
        }
      ]
    },
    {
      "cell_type": "markdown",
      "source": [
        "**SVM Parameter tuning using Cross Validation**"
      ],
      "metadata": {
        "id": "afXeYWwVOWhR"
      }
    },
    {
      "cell_type": "code",
      "source": [
        "svm_param_grid = {'C': [0.001, 0.01, 0.1, 1, 10], 'gamma':['scale', 'auto'] ,'kernel': ['rbf', 'poly', 'sigmoid']} #[1,0.1,0.01,0.001]\n",
        "svm_model = SVC()\n",
        "grid_search_svm = GridSearchCV(\n",
        "    estimator= svm_model,\n",
        "    param_grid=svm_param_grid,\n",
        "    scoring = 'accuracy',\n",
        "    n_jobs = -1,\n",
        "    cv = 5\n",
        ")\n",
        "grid_search_svm.fit(X_train, y_train)\n",
        "grid_search_svm.best_params_"
      ],
      "metadata": {
        "colab": {
          "base_uri": "https://localhost:8080/"
        },
        "id": "64k15motKuqi",
        "outputId": "b90c1457-97d6-4889-ddf7-ec07b9fbef0e"
      },
      "execution_count": null,
      "outputs": [
        {
          "output_type": "execute_result",
          "data": {
            "text/plain": [
              "{'C': 1, 'gamma': 'scale', 'kernel': 'rbf'}"
            ]
          },
          "metadata": {},
          "execution_count": 490
        }
      ]
    },
    {
      "cell_type": "code",
      "source": [
        "best_params_ = list(grid_search_svm.best_params_.values())\n",
        "#Applying SVC (Support Vector Classification)\n",
        "svm = SVC(C= best_params_[0], gamma =  best_params_[1], kernel= best_params_[2])\n",
        "svm.fit(X_train, y_train)\n",
        "y_pred = svm.predict(X_test)\n",
        "svm_cm = confusion_matrix(y_test, y_pred)\n",
        "print('svm confusion_matrix :\\n', svm_cm)\n",
        "\n",
        "accDF.iat[5, 2]= round(accuracy_score(y_test, y_pred)* 100, 2)\n",
        "accDF.iat[5, 3]= round(svm.score(X_train,y_train)* 100, 2)\n",
        "accDF.iat[5, 4]= round(svm.score(X_test,y_test)* 100, 2)\n",
        "\n",
        "print('Accuracy:', accDF.iat[5, 2] ,'%')\n",
        "print(\"Train accuracy:\",accDF.iat[5, 3],'%')\n",
        "print(\"Test accuracy:\",accDF.iat[5, 4],'%')\n",
        "\n",
        "print(\"classification_report:\\n\",classification_report(y_test, svm.predict(X_test)))"
      ],
      "metadata": {
        "colab": {
          "base_uri": "https://localhost:8080/"
        },
        "id": "8y0TfeayL-pp",
        "outputId": "242cbf77-a2ec-4f49-89dc-220a6b8be3b1"
      },
      "execution_count": null,
      "outputs": [
        {
          "output_type": "stream",
          "name": "stdout",
          "text": [
            "svm confusion_matrix :\n",
            " [[65  0  5]\n",
            " [27  5  9]\n",
            " [ 5  1 19]]\n",
            "Accuracy: 65.44 %\n",
            "Train accuracy: 74.68 %\n",
            "Test accuracy: 65.44 %\n",
            "classification_report:\n",
            "               precision    recall  f1-score   support\n",
            "\n",
            "         0.0       0.67      0.93      0.78        70\n",
            "         1.0       0.83      0.12      0.21        41\n",
            "         2.0       0.58      0.76      0.66        25\n",
            "\n",
            "    accuracy                           0.65       136\n",
            "   macro avg       0.69      0.60      0.55       136\n",
            "weighted avg       0.70      0.65      0.59       136\n",
            "\n"
          ]
        }
      ]
    },
    {
      "cell_type": "markdown",
      "source": [
        "#### **1.6.4.  Random Forest**"
      ],
      "metadata": {
        "id": "w-aUu9Bi7UdU"
      }
    },
    {
      "cell_type": "markdown",
      "source": [
        "first we try the default algorithm (without any parameter tuning):"
      ],
      "metadata": {
        "id": "SIP6cERtAg8m"
      }
    },
    {
      "cell_type": "code",
      "source": [
        "from sklearn.ensemble import RandomForestClassifier\n",
        "random_forest = RandomForestClassifier(random_state=42)\n",
        "random_forest.fit(X_train, y_train)\n",
        "y_pred = random_forest.predict(X_test)\n",
        "rf_cm = confusion_matrix(y_test, y_pred)\n",
        "print('random_forest confusion_matrix :\\n', rf_cm)\n",
        "\n",
        "accDF.iat[6, 2]= round(accuracy_score(y_test, y_pred)* 100, 2)\n",
        "accDF.iat[6, 3]= round(random_forest.score(X_train,y_train)* 100, 2)\n",
        "accDF.iat[6, 4]= round(random_forest.score(X_test,y_test)* 100, 2)\n",
        "\n",
        "print('Accuracy:', accDF.iat[6, 2] ,'%')\n",
        "print(\"Train accuracy:\",accDF.iat[6, 3],'%')\n",
        "print(\"Test accuracy:\",accDF.iat[6, 4],'%')\n",
        "\n",
        "print(\"classification_report:\\n\",classification_report(y_test, random_forest.predict(X_test)))"
      ],
      "metadata": {
        "colab": {
          "base_uri": "https://localhost:8080/"
        },
        "id": "gT-eveYpnB-d",
        "outputId": "6ffe4ce8-60ad-4cfa-861f-85e9829f6fcb"
      },
      "execution_count": null,
      "outputs": [
        {
          "output_type": "stream",
          "name": "stdout",
          "text": [
            "random_forest confusion_matrix :\n",
            " [[60  5  5]\n",
            " [23  9  9]\n",
            " [ 2  4 19]]\n",
            "Accuracy: 64.71 %\n",
            "Train accuracy: 95.25 %\n",
            "Test accuracy: 64.71 %\n",
            "classification_report:\n",
            "               precision    recall  f1-score   support\n",
            "\n",
            "         0.0       0.71      0.86      0.77        70\n",
            "         1.0       0.50      0.22      0.31        41\n",
            "         2.0       0.58      0.76      0.66        25\n",
            "\n",
            "    accuracy                           0.65       136\n",
            "   macro avg       0.59      0.61      0.58       136\n",
            "weighted avg       0.62      0.65      0.61       136\n",
            "\n"
          ]
        }
      ]
    },
    {
      "cell_type": "markdown",
      "source": [
        "We use cross validation to find the best parameters for the model:"
      ],
      "metadata": {
        "id": "3O_gE5Ng_REP"
      }
    },
    {
      "cell_type": "code",
      "source": [
        "# random grid\n",
        "random_grid = {'n_estimators': [100,500], \n",
        "               'max_features': ['auto', 'sqrt'], \n",
        "               'max_depth': [10,20],\n",
        "               'min_samples_split': [2, 5, 10], \n",
        "               'min_samples_leaf':  [1, 2, 4]}\n",
        "rf = RandomForestClassifier()\n",
        "rf_random = RandomizedSearchCV(estimator = rf, param_distributions = random_grid, n_iter = 100, cv = 3, verbose=2, random_state=42, n_jobs = -1)\n",
        "# Fit the random search model\n",
        "rf_random.fit(X_train, y_train)\n",
        "rf_random.best_params_"
      ],
      "metadata": {
        "colab": {
          "base_uri": "https://localhost:8080/"
        },
        "id": "pOKNaVJy9PQ7",
        "outputId": "795a5ab2-f3af-4586-e440-3620835804d9"
      },
      "execution_count": null,
      "outputs": [
        {
          "output_type": "stream",
          "name": "stderr",
          "text": [
            "/usr/local/lib/python3.7/dist-packages/sklearn/model_selection/_search.py:296: UserWarning: The total space of parameters 72 is smaller than n_iter=100. Running 72 iterations. For exhaustive searches, use GridSearchCV.\n",
            "  UserWarning,\n"
          ]
        },
        {
          "output_type": "stream",
          "name": "stdout",
          "text": [
            "Fitting 3 folds for each of 72 candidates, totalling 216 fits\n"
          ]
        },
        {
          "output_type": "execute_result",
          "data": {
            "text/plain": [
              "{'max_depth': 20,\n",
              " 'max_features': 'auto',\n",
              " 'min_samples_leaf': 4,\n",
              " 'min_samples_split': 5,\n",
              " 'n_estimators': 100}"
            ]
          },
          "metadata": {},
          "execution_count": 493
        }
      ]
    },
    {
      "cell_type": "markdown",
      "source": [
        "we use the best parameters that we found to create a new model:"
      ],
      "metadata": {
        "id": "Mt1Bn5ZWA60v"
      }
    },
    {
      "cell_type": "code",
      "source": [
        "best_params_ = list(rf_random.best_params_.values())\n",
        "random_forest = RandomForestClassifier(max_depth= best_params_[4], max_features= best_params_[3],\n",
        " min_samples_leaf= best_params_[2],\n",
        " min_samples_split= best_params_[1],\n",
        " n_estimators= best_params_[0],random_state=42)\n",
        "random_forest.fit(X_train, y_train)\n",
        "y_pred = random_forest.predict(X_test)\n",
        "rf_cm = confusion_matrix(y_test, y_pred)\n",
        "print('random_forest confusion_matrix :\\n', rf_cm)\n",
        "\n",
        "accDF.iat[7, 2]= round(accuracy_score(y_test, y_pred)* 100, 2)\n",
        "accDF.iat[7, 3]= round(random_forest.score(X_train,y_train)* 100, 2)\n",
        "accDF.iat[7, 4]= round(random_forest.score(X_test,y_test)* 100, 2)\n",
        "\n",
        "print('Accuracy:', accDF.iat[7, 2] ,'%')\n",
        "print(\"Train accuracy:\",accDF.iat[7, 3],'%')\n",
        "print(\"Test accuracy:\",accDF.iat[7, 4],'%')\n",
        "\n",
        "print(\"classification_report:\\n\",classification_report(y_test, random_forest.predict(X_test)))"
      ],
      "metadata": {
        "colab": {
          "base_uri": "https://localhost:8080/"
        },
        "id": "KXcnxxxK_fxt",
        "outputId": "067159a2-3de7-4f1d-f08e-e4c477fb2548"
      },
      "execution_count": null,
      "outputs": [
        {
          "output_type": "stream",
          "name": "stdout",
          "text": [
            "random_forest confusion_matrix :\n",
            " [[66  0  4]\n",
            " [27  3 11]\n",
            " [ 1  0 24]]\n",
            "Accuracy: 68.38 %\n",
            "Train accuracy: 81.33 %\n",
            "Test accuracy: 68.38 %\n",
            "classification_report:\n",
            "               precision    recall  f1-score   support\n",
            "\n",
            "         0.0       0.70      0.94      0.80        70\n",
            "         1.0       1.00      0.07      0.14        41\n",
            "         2.0       0.62      0.96      0.75        25\n",
            "\n",
            "    accuracy                           0.68       136\n",
            "   macro avg       0.77      0.66      0.56       136\n",
            "weighted avg       0.78      0.68      0.59       136\n",
            "\n"
          ]
        }
      ]
    },
    {
      "cell_type": "markdown",
      "source": [
        "we got better accuracy by using the best parameters!"
      ],
      "metadata": {
        "id": "QhyBnVrmBDie"
      }
    },
    {
      "cell_type": "markdown",
      "source": [
        "### **1.7. Analysis**"
      ],
      "metadata": {
        "id": "b0_rjfzK78qv"
      }
    },
    {
      "cell_type": "markdown",
      "source": [
        "Model accuracy before and after parameter tnning using cross validation."
      ],
      "metadata": {
        "id": "eNdvBZoUPBnQ"
      }
    },
    {
      "cell_type": "code",
      "source": [
        "accDF.sort_values(by = 'Accuracy', ascending = False)"
      ],
      "metadata": {
        "colab": {
          "base_uri": "https://localhost:8080/",
          "height": 300
        },
        "id": "P1dv7u6CPyvw",
        "outputId": "78a4c1fb-eb58-4055-e131-028240e21980"
      },
      "execution_count": null,
      "outputs": [
        {
          "output_type": "execute_result",
          "data": {
            "text/plain": [
              "  Classification ParameterTuning  Accuracy  Train accuracy  Test accuracy\n",
              "7  Random Forest           after     68.38           81.33          68.38\n",
              "1  Decision Tree           after     67.65           74.68          67.65\n",
              "4            SVM          before     65.44           74.68          65.44\n",
              "5            SVM           after     65.44           74.68          65.44\n",
              "3            KNN           after     64.71           73.42          64.71\n",
              "6  Random Forest          before     64.71           95.25          64.71\n",
              "0  Decision Tree          before     63.24           95.25          63.24\n",
              "2            KNN          before     63.24           76.58          63.24"
            ],
            "text/html": [
              "\n",
              "  <div id=\"df-9910eca7-958f-413b-b772-e05f202760aa\">\n",
              "    <div class=\"colab-df-container\">\n",
              "      <div>\n",
              "<style scoped>\n",
              "    .dataframe tbody tr th:only-of-type {\n",
              "        vertical-align: middle;\n",
              "    }\n",
              "\n",
              "    .dataframe tbody tr th {\n",
              "        vertical-align: top;\n",
              "    }\n",
              "\n",
              "    .dataframe thead th {\n",
              "        text-align: right;\n",
              "    }\n",
              "</style>\n",
              "<table border=\"1\" class=\"dataframe\">\n",
              "  <thead>\n",
              "    <tr style=\"text-align: right;\">\n",
              "      <th></th>\n",
              "      <th>Classification</th>\n",
              "      <th>ParameterTuning</th>\n",
              "      <th>Accuracy</th>\n",
              "      <th>Train accuracy</th>\n",
              "      <th>Test accuracy</th>\n",
              "    </tr>\n",
              "  </thead>\n",
              "  <tbody>\n",
              "    <tr>\n",
              "      <th>7</th>\n",
              "      <td>Random Forest</td>\n",
              "      <td>after</td>\n",
              "      <td>68.38</td>\n",
              "      <td>81.33</td>\n",
              "      <td>68.38</td>\n",
              "    </tr>\n",
              "    <tr>\n",
              "      <th>1</th>\n",
              "      <td>Decision Tree</td>\n",
              "      <td>after</td>\n",
              "      <td>67.65</td>\n",
              "      <td>74.68</td>\n",
              "      <td>67.65</td>\n",
              "    </tr>\n",
              "    <tr>\n",
              "      <th>4</th>\n",
              "      <td>SVM</td>\n",
              "      <td>before</td>\n",
              "      <td>65.44</td>\n",
              "      <td>74.68</td>\n",
              "      <td>65.44</td>\n",
              "    </tr>\n",
              "    <tr>\n",
              "      <th>5</th>\n",
              "      <td>SVM</td>\n",
              "      <td>after</td>\n",
              "      <td>65.44</td>\n",
              "      <td>74.68</td>\n",
              "      <td>65.44</td>\n",
              "    </tr>\n",
              "    <tr>\n",
              "      <th>3</th>\n",
              "      <td>KNN</td>\n",
              "      <td>after</td>\n",
              "      <td>64.71</td>\n",
              "      <td>73.42</td>\n",
              "      <td>64.71</td>\n",
              "    </tr>\n",
              "    <tr>\n",
              "      <th>6</th>\n",
              "      <td>Random Forest</td>\n",
              "      <td>before</td>\n",
              "      <td>64.71</td>\n",
              "      <td>95.25</td>\n",
              "      <td>64.71</td>\n",
              "    </tr>\n",
              "    <tr>\n",
              "      <th>0</th>\n",
              "      <td>Decision Tree</td>\n",
              "      <td>before</td>\n",
              "      <td>63.24</td>\n",
              "      <td>95.25</td>\n",
              "      <td>63.24</td>\n",
              "    </tr>\n",
              "    <tr>\n",
              "      <th>2</th>\n",
              "      <td>KNN</td>\n",
              "      <td>before</td>\n",
              "      <td>63.24</td>\n",
              "      <td>76.58</td>\n",
              "      <td>63.24</td>\n",
              "    </tr>\n",
              "  </tbody>\n",
              "</table>\n",
              "</div>\n",
              "      <button class=\"colab-df-convert\" onclick=\"convertToInteractive('df-9910eca7-958f-413b-b772-e05f202760aa')\"\n",
              "              title=\"Convert this dataframe to an interactive table.\"\n",
              "              style=\"display:none;\">\n",
              "        \n",
              "  <svg xmlns=\"http://www.w3.org/2000/svg\" height=\"24px\"viewBox=\"0 0 24 24\"\n",
              "       width=\"24px\">\n",
              "    <path d=\"M0 0h24v24H0V0z\" fill=\"none\"/>\n",
              "    <path d=\"M18.56 5.44l.94 2.06.94-2.06 2.06-.94-2.06-.94-.94-2.06-.94 2.06-2.06.94zm-11 1L8.5 8.5l.94-2.06 2.06-.94-2.06-.94L8.5 2.5l-.94 2.06-2.06.94zm10 10l.94 2.06.94-2.06 2.06-.94-2.06-.94-.94-2.06-.94 2.06-2.06.94z\"/><path d=\"M17.41 7.96l-1.37-1.37c-.4-.4-.92-.59-1.43-.59-.52 0-1.04.2-1.43.59L10.3 9.45l-7.72 7.72c-.78.78-.78 2.05 0 2.83L4 21.41c.39.39.9.59 1.41.59.51 0 1.02-.2 1.41-.59l7.78-7.78 2.81-2.81c.8-.78.8-2.07 0-2.86zM5.41 20L4 18.59l7.72-7.72 1.47 1.35L5.41 20z\"/>\n",
              "  </svg>\n",
              "      </button>\n",
              "      \n",
              "  <style>\n",
              "    .colab-df-container {\n",
              "      display:flex;\n",
              "      flex-wrap:wrap;\n",
              "      gap: 12px;\n",
              "    }\n",
              "\n",
              "    .colab-df-convert {\n",
              "      background-color: #E8F0FE;\n",
              "      border: none;\n",
              "      border-radius: 50%;\n",
              "      cursor: pointer;\n",
              "      display: none;\n",
              "      fill: #1967D2;\n",
              "      height: 32px;\n",
              "      padding: 0 0 0 0;\n",
              "      width: 32px;\n",
              "    }\n",
              "\n",
              "    .colab-df-convert:hover {\n",
              "      background-color: #E2EBFA;\n",
              "      box-shadow: 0px 1px 2px rgba(60, 64, 67, 0.3), 0px 1px 3px 1px rgba(60, 64, 67, 0.15);\n",
              "      fill: #174EA6;\n",
              "    }\n",
              "\n",
              "    [theme=dark] .colab-df-convert {\n",
              "      background-color: #3B4455;\n",
              "      fill: #D2E3FC;\n",
              "    }\n",
              "\n",
              "    [theme=dark] .colab-df-convert:hover {\n",
              "      background-color: #434B5C;\n",
              "      box-shadow: 0px 1px 3px 1px rgba(0, 0, 0, 0.15);\n",
              "      filter: drop-shadow(0px 1px 2px rgba(0, 0, 0, 0.3));\n",
              "      fill: #FFFFFF;\n",
              "    }\n",
              "  </style>\n",
              "\n",
              "      <script>\n",
              "        const buttonEl =\n",
              "          document.querySelector('#df-9910eca7-958f-413b-b772-e05f202760aa button.colab-df-convert');\n",
              "        buttonEl.style.display =\n",
              "          google.colab.kernel.accessAllowed ? 'block' : 'none';\n",
              "\n",
              "        async function convertToInteractive(key) {\n",
              "          const element = document.querySelector('#df-9910eca7-958f-413b-b772-e05f202760aa');\n",
              "          const dataTable =\n",
              "            await google.colab.kernel.invokeFunction('convertToInteractive',\n",
              "                                                     [key], {});\n",
              "          if (!dataTable) return;\n",
              "\n",
              "          const docLinkHtml = 'Like what you see? Visit the ' +\n",
              "            '<a target=\"_blank\" href=https://colab.research.google.com/notebooks/data_table.ipynb>data table notebook</a>'\n",
              "            + ' to learn more about interactive tables.';\n",
              "          element.innerHTML = '';\n",
              "          dataTable['output_type'] = 'display_data';\n",
              "          await google.colab.output.renderOutput(dataTable, element);\n",
              "          const docLink = document.createElement('div');\n",
              "          docLink.innerHTML = docLinkHtml;\n",
              "          element.appendChild(docLink);\n",
              "        }\n",
              "      </script>\n",
              "    </div>\n",
              "  </div>\n",
              "  "
            ]
          },
          "metadata": {},
          "execution_count": 495
        }
      ]
    },
    {
      "cell_type": "code",
      "source": [
        "ax = sns.barplot(x=\"Classification\", y=\"Accuracy\", hue=\"ParameterTuning\", data=accDF)\n",
        "ax.legend(bbox_to_anchor=(1.05, 1), loc='upper left', borderaxespad=0)\n",
        "ax.set(title = \"Model Accuracy Before and After Parameter Tuning\")"
      ],
      "metadata": {
        "colab": {
          "base_uri": "https://localhost:8080/",
          "height": 313
        },
        "id": "GkuCtJy7PG36",
        "outputId": "08431019-84dd-4eab-dce1-79b1604198b8"
      },
      "execution_count": null,
      "outputs": [
        {
          "output_type": "execute_result",
          "data": {
            "text/plain": [
              "[Text(0.5, 1.0, 'Model Accuracy Before and After Parameter Tuning')]"
            ]
          },
          "metadata": {},
          "execution_count": 496
        },
        {
          "output_type": "display_data",
          "data": {
            "text/plain": [
              "<Figure size 432x288 with 1 Axes>"
            ],
            "image/png": "[encoded data removed]"
          },
          "metadata": {
            "needs_background": "light"
          }
        }
      ]
    },
    {
      "cell_type": "markdown",
      "source": [
        "### **1.8. Conclusions**"
      ],
      "metadata": {
        "id": "24a7DhwF8CqV"
      }
    },
    {
      "cell_type": "markdown",
      "source": [
        "Notes from the barplot:\n",
        "\n",
        "\n",
        "*   **Random forest** has the **highest accuracy** both before and after parameter tuning.\n",
        "*   In order of accuracy we have high to low:\n",
        "  * Random Forest\n",
        "  * Decision Tree\n",
        "  * SVM\n",
        "  * KNN\n",
        "* **Parameter tuning** using cross validation has **improved the accuracy** for all models except SVM (because the best parameters were already the default parameters of the algorithm). It had the **most impact** on **Decision tree**. \n",
        "\n"
      ],
      "metadata": {
        "id": "rTKH35ZgUmIA"
      }
    },
    {
      "cell_type": "markdown",
      "source": [
        "---"
      ],
      "metadata": {
        "id": "B1jmlFzk6APS"
      }
    }
  ]
}
